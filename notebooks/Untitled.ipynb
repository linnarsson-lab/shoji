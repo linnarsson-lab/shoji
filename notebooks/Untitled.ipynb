{
 "cells": [
  {
   "cell_type": "code",
   "execution_count": 1,
   "metadata": {},
   "outputs": [],
   "source": [
    "import numpy as np\n",
    "import random\n",
    "import shoji\n",
    "import loompy"
   ]
  },
  {
   "cell_type": "code",
   "execution_count": 19,
   "metadata": {},
   "outputs": [],
   "source": [
    "db = shoji.connect()\n",
    "db.refdb.human_development_agg._from_loom(\"/Users/stelin/cytograph/20200702_human_dev/data/Allbrain.agg.loom\", fix_expression_dtype=True)"
   ]
  },
  {
   "cell_type": "code",
   "execution_count": 20,
   "metadata": {},
   "outputs": [
    {
     "data": {
      "text/html": [
       "<h4>refdb (shoji.Workspace)</h4><h5>Sub-workspaces</h5><table><tr><th></th><th>Contents</th></tr><tr><td align='left'><strong>human</strong></td><td>0 workspaces, 0 dimensions, 0 tensors</td></tr><tr><td align='left'><strong>human_adult</strong></td><td>0 workspaces, 0 dimensions, 0 tensors</td></tr><tr><td align='left'><strong>human_adult_agg</strong></td><td>0 workspaces, 2 dimensions, 416 tensors</td></tr><tr><td align='left'><strong>human_development</strong></td><td>0 workspaces, 0 dimensions, 0 tensors</td></tr><tr><td align='left'><strong>human_development_agg</strong></td><td>0 workspaces, 2 dimensions, 376 tensors</td></tr><tr><td align='left'><strong>mouse_adolescent</strong></td><td>0 workspaces, 2 dimensions, 137 tensors</td></tr><tr><td align='left'><strong>mouse_adolescent_agg</strong></td><td>0 workspaces, 2 dimensions, 229 tensors</td></tr><tr><td align='left'><strong>mouse_development</strong></td><td>0 workspaces, 2 dimensions, 74 tensors</td></tr><tr><td align='left'><strong>mouse_development_agg</strong></td><td>0 workspaces, 2 dimensions, 154 tensors</td></tr></table>"
      ],
      "text/plain": [
       "Workspace with 9 workspaces, 0 dimensions and 0 tensors:\n",
       "  human <Workspace>\n",
       "  human_adult <Workspace>\n",
       "  human_adult_agg <Workspace>\n",
       "  human_development <Workspace>\n",
       "  human_development_agg <Workspace>\n",
       "  mouse_adolescent <Workspace>\n",
       "  mouse_adolescent_agg <Workspace>\n",
       "  mouse_development <Workspace>\n",
       "  mouse_development_agg <Workspace>"
      ]
     },
     "execution_count": 20,
     "metadata": {},
     "output_type": "execute_result"
    }
   ],
   "source": [
    "db.refdb"
   ]
  },
  {
   "cell_type": "code",
   "execution_count": 9,
   "metadata": {},
   "outputs": [],
   "source": [
    "import h5py\n",
    "h5 = h5py.File(\"/Users/stelin/test.h5\", \"a\")"
   ]
  },
  {
   "cell_type": "code",
   "execution_count": 11,
   "metadata": {},
   "outputs": [
    {
     "data": {
      "text/plain": [
       "<HDF5 group \"/\" (0 members)>"
      ]
     },
     "execution_count": 11,
     "metadata": {},
     "output_type": "execute_result"
    }
   ],
   "source": [
    "h5.require_group(\"/\")"
   ]
  },
  {
   "cell_type": "code",
   "execution_count": 14,
   "metadata": {},
   "outputs": [],
   "source": [
    "tensor = db.samples.TenX271_1.Expression"
   ]
  },
  {
   "cell_type": "code",
   "execution_count": 17,
   "metadata": {},
   "outputs": [
    {
     "data": {
      "text/plain": [
       "array(['uint16', 2, 0, 'cells', 'genes', None, 2338, 33538], dtype=object)"
      ]
     },
     "execution_count": 17,
     "metadata": {},
     "output_type": "execute_result"
    }
   ],
   "source": [
    "np.array((tensor.dtype, tensor.rank, 1 if tensor.jagged else 0) + tensor.dims + (None,) + tensor.shape)"
   ]
  },
  {
   "cell_type": "code",
   "execution_count": 4,
   "metadata": {},
   "outputs": [],
   "source": [
    "def merge_config(a, b, path=None):\n",
    "\t\"Merge b into a, modifying a in place and returning it\"\n",
    "\tif path is None: path = []\n",
    "\tfor key in b:\n",
    "\t\tif key in a:\n",
    "\t\t\tif isinstance(a[key], dict) and isinstance(b[key], dict):\n",
    "\t\t\t\tmerge_config(a[key], b[key], path + [str(key)])\n",
    "\t\t\telif a[key] == b[key]:\n",
    "\t\t\t\tpass  # same leaf value\n",
    "\t\t\telse:\n",
    "\t\t\t\ta[key] = b[key]\n",
    "\t\telse:\n",
    "\t\t\ta[key] = b[key]\n",
    "\treturn a\n"
   ]
  },
  {
   "cell_type": "code",
   "execution_count": 8,
   "metadata": {},
   "outputs": [
    {
     "data": {
      "text/plain": [
       "{'c': 1, 'b': 7, 'a': {'d': 2, 'e': 4}}"
      ]
     },
     "execution_count": 8,
     "metadata": {},
     "output_type": "execute_result"
    }
   ],
   "source": [
    "merge_config({\"c\": 1, \"b\": 2, \"a\": 3}, {\"b\": 7, \"a\": {\"d\": 2, \"e\": 4}})"
   ]
  },
  {
   "cell_type": "code",
   "execution_count": 2,
   "metadata": {},
   "outputs": [],
   "source": [
    "db = shoji.connect()\n",
    "ws = db.samples.TenX204_1"
   ]
  },
  {
   "cell_type": "code",
   "execution_count": 5,
   "metadata": {},
   "outputs": [],
   "source": [
    "x = ws.Expression[...]"
   ]
  },
  {
   "cell_type": "code",
   "execution_count": 6,
   "metadata": {},
   "outputs": [
    {
     "data": {
      "text/plain": [
       "(5354, 33538)"
      ]
     },
     "execution_count": 6,
     "metadata": {},
     "output_type": "execute_result"
    }
   ],
   "source": [
    "x.shape"
   ]
  },
  {
   "cell_type": "code",
   "execution_count": 9,
   "metadata": {},
   "outputs": [
    {
     "data": {
      "text/html": [
       "<h4>TenX207_1 (shoji.Workspace)</h4><h5>Dimensions</h5><table><tr><th></th><th>shape</th><th>length</th></tr><tr><td align='left'><strong>cells</strong></td><td>None</td><td>6,238</td></tr><tr><td align='left'><strong>genes</strong></td><td>33,538</td><td>33,538</td></tr></table><h5>Tensors</h5><table><tr><th></th><th>dtype</th><th>rank</th><th>dims</th><th>shape</th><th>(values)</th></tr><tr><td align='left'><strong>Accession</strong></td><td align='left'>string</td><td align='left'>1</td><td>genes</td><td>33,538</td><td>[\"ENSG00000237613\", \"ENSG00000238009\", \"ENSG00000239945\" ···</td></tr><tr><td align='left'><strong>Age</strong></td><td align='left'>string</td><td align='left'>0</td><td>()</td><td>()</td><td>\"11.5w\"</td></tr><tr><td align='left'><strong>Ambiguous</strong></td><td align='left'>uint16</td><td align='left'>2</td><td>cells ✕ genes</td><td>__ ✕ 33,538</td><td>[[0, 0, 0, 0, 0, ...], [0, 0, 0, 0, 0, ...], [0, 0, 0, 0 ···</td></tr><tr><td align='left'><strong>BpLength</strong></td><td align='left'>int64</td><td align='left'>0</td><td>()</td><td>()</td><td>448</td></tr><tr><td align='left'><strong>CDNAConc</strong></td><td align='left'>float64</td><td align='left'>0</td><td>()</td><td>()</td><td>7.5</td></tr><tr><td align='left'><strong>CellConc</strong></td><td align='left'>int64</td><td align='left'>0</td><td>()</td><td>()</td><td>1200</td></tr><tr><td align='left'><strong>CellCycleFraction</strong></td><td align='left'>float32</td><td align='left'>1</td><td>cells</td><td>__</td><td>[0.0025813517, 0.0024798978, 0.0018984338, 0.0013452367, ···</td></tr><tr><td align='left'><strong>CellID</strong></td><td align='left'>string</td><td align='left'>1</td><td>cells</td><td>__</td><td>[\"10X207_1_ABC_1:AAAGAACTCCTACACCx\", \"10X207_1_ABC_1:AAA ···</td></tr><tr><td align='left'><strong>Chemistry</strong></td><td align='left'>string</td><td align='left'>0</td><td>()</td><td>()</td><td>\"v3\"</td></tr><tr><td align='left'><strong>Chromosome</strong></td><td align='left'>string</td><td align='left'>1</td><td>genes</td><td>33,538</td><td>[\"1\", \"1\", \"1\", \"1\", \"1\", ...]</td></tr><tr><td align='left'><strong>Clusters</strong></td><td align='left'>int64</td><td align='left'>1</td><td>cells</td><td>__</td><td>[1, 3, 8, 5, 8, ...]</td></tr><tr><td align='left'><strong>Comment</strong></td><td align='left'>string</td><td align='left'>0</td><td>()</td><td>()</td><td>\"\"</td></tr><tr><td align='left'><strong>CreationDate</strong></td><td align='left'>string</td><td align='left'>0</td><td>()</td><td>()</td><td>\"20200410T213613.380999Z\"</td></tr><tr><td align='left'><strong>Donor</strong></td><td align='left'>string</td><td align='left'>0</td><td>()</td><td>()</td><td>\"XDD:358\"</td></tr><tr><td align='left'><strong>DoubletFinderFlag</strong></td><td align='left'>int64</td><td align='left'>1</td><td>cells</td><td>__</td><td>[0, 0, 0, 0, 0, ...]</td></tr><tr><td align='left'><strong>DoubletFinderScore</strong></td><td align='left'>float64</td><td align='left'>1</td><td>cells</td><td>__</td><td>[0.04, 0.06, 0.0, 0.06, 0.02, ...]</td></tr><tr><td align='left'><strong>DoubletFlag</strong></td><td align='left'>bool</td><td align='left'>1</td><td>cells</td><td>__</td><td>[False, False, False, False, False, ...]</td></tr><tr><td align='left'><strong>DoubletScore</strong></td><td align='left'>float32</td><td align='left'>1</td><td>cells</td><td>__</td><td>[0.06451613, 0.16129032, 0.0, 0.032258064, 0.0, ...]</td></tr><tr><td align='left'><strong>End</strong></td><td align='left'>int64</td><td align='left'>1</td><td>genes</td><td>33,538</td><td>[36081, 133723, 91105, 140339, 451697, ...]</td></tr><tr><td align='left'><strong>Expression</strong></td><td align='left'>uint16</td><td align='left'>2</td><td>cells ✕ genes</td><td>__ ✕ 33,538</td><td>[[0, 0, 0, 0, 0, ...], [0, 0, 0, 0, 0, ...], [0, 0, 0, 0 ···</td></tr><tr><td align='left'><strong>FinalConc</strong></td><td align='left'>float64</td><td align='left'>0</td><td>()</td><td>()</td><td>126.68</td></tr><tr><td align='left'><strong>Gene</strong></td><td align='left'>string</td><td align='left'>1</td><td>genes</td><td>33,538</td><td>[\"FAM138A\", \"AL627309.1\", \"AL627309.3\", \"AL627309.2\", \"O ···</td></tr><tr><td align='left'><strong>GeneTotalUMIs</strong></td><td align='left'>uint32</td><td align='left'>1</td><td>genes</td><td>33,538</td><td>[0, 1, 0, 0, 0, ...]</td></tr><tr><td align='left'><strong>LOOM_SPEC_VERSION</strong></td><td align='left'>string</td><td align='left'>0</td><td>()</td><td>()</td><td>\"3.0.0\"</td></tr><tr><td align='left'><strong>MT_ratio</strong></td><td align='left'>float64</td><td align='left'>1</td><td>cells</td><td>__</td><td>[0.0075876095118898625, 0.02134215074772676, 0.030849549 ···</td></tr><tr><td align='left'><strong>MeanExpression</strong></td><td align='left'>float32</td><td align='left'>1</td><td>genes</td><td>33,538</td><td>[0.0, 0.0001603078, 0.0, 0.0, 0.0, ...]</td></tr><tr><td align='left'><strong>MeanTotalUMI</strong></td><td align='left'>float64</td><td align='left'>0</td><td>()</td><td>()</td><td>1.7515335889280617</td></tr><tr><td align='left'><strong>MitoFraction</strong></td><td align='left'>float32</td><td align='left'>1</td><td>cells</td><td>__</td><td>[0.0075876093, 0.02134215, 0.03084955, 0.028983735, 0.01 ···</td></tr><tr><td align='left'><strong>NGenes</strong></td><td align='left'>uint32</td><td align='left'>1</td><td>cells</td><td>__</td><td>[4627, 4791, 1307, 3610, 2802, ...]</td></tr><tr><td align='left'><strong>Nonzeros</strong></td><td align='left'>uint32</td><td align='left'>1</td><td>genes</td><td>33,538</td><td>[0, 1, 0, 0, 0, ...]</td></tr><tr><td align='left'><strong>PCA</strong></td><td align='left'>float32</td><td align='left'>2</td><td>cells ✕ 50</td><td>__ ✕ 50</td><td>[[-29.253242, 21.91787, 20.596607, 0.030486507, -1.77274 ···</td></tr><tr><td align='left'><strong>PCRCycles</strong></td><td align='left'>int64</td><td align='left'>0</td><td>()</td><td>()</td><td>12</td></tr><tr><td align='left'><strong>PassedQC</strong></td><td align='left'>bool</td><td align='left'>0</td><td>()</td><td>()</td><td>True</td></tr><tr><td align='left'><strong>PassedQC_MT_ratio</strong></td><td align='left'>uint8</td><td align='left'>1</td><td>cells</td><td>__</td><td>[0, 0, 0, 0, 0, ...]</td></tr><tr><td align='left'><strong>PassedQC_TotalUMI</strong></td><td align='left'>uint8</td><td align='left'>1</td><td>cells</td><td>__</td><td>[1, 1, 1, 1, 1, ...]</td></tr><tr><td align='left'><strong>PassedQC_UMIPerGene</strong></td><td align='left'>uint8</td><td align='left'>1</td><td>cells</td><td>__</td><td>[0, 0, 0, 0, 0, ...]</td></tr><tr><td align='left'><strong>PassedQC_UnsplicedRatio</strong></td><td align='left'>uint8</td><td align='left'>1</td><td>cells</td><td>__</td><td>[1, 1, 0, 1, 1, ...]</td></tr><tr><td align='left'><strong>RegionOfInterest</strong></td><td align='left'>string</td><td align='left'>0</td><td>()</td><td>()</td><td>\"\"</td></tr><tr><td align='left'><strong>SampleName</strong></td><td align='left'>string</td><td align='left'>0</td><td>()</td><td>()</td><td>\"XDD:358_Cerebellum\"</td></tr><tr><td align='left'><strong>Sex</strong></td><td align='left'>string</td><td align='left'>0</td><td>()</td><td>()</td><td>\"\"</td></tr><tr><td align='left'><strong>Species</strong></td><td align='left'>string</td><td align='left'>0</td><td>()</td><td>()</td><td>\"Homo sapiens\"</td></tr><tr><td align='left'><strong>Spliced</strong></td><td align='left'>uint16</td><td align='left'>2</td><td>cells ✕ genes</td><td>__ ✕ 33,538</td><td>[[0, 0, 0, 0, 0, ...], [0, 0, 0, 0, 0, ...], [0, 0, 0, 0 ···</td></tr><tr><td align='left'><strong>Start</strong></td><td align='left'>int64</td><td align='left'>1</td><td>genes</td><td>33,538</td><td>[34554, 89295, 89551, 139790, 450703, ...]</td></tr><tr><td align='left'><strong>StdevExpression</strong></td><td align='left'>float32</td><td align='left'>1</td><td>genes</td><td>33,538</td><td>[0.0, 0.012661272, 0.0, 0.0, 0.0, ...]</td></tr><tr><td align='left'><strong>Strand</strong></td><td align='left'>string</td><td align='left'>1</td><td>genes</td><td>33,538</td><td>[\"-\", \"-\", \"-\", \"-\", \"-\", ...]</td></tr><tr><td align='left'><strong>TSNE</strong></td><td align='left'>float32</td><td align='left'>2</td><td>cells ✕ 2</td><td>__ ✕ 2</td><td>[[27.091234, 45.68723], [0.9716211, 65.73354], [-56.7973 ···</td></tr><tr><td align='left'><strong>TargetNumCells</strong></td><td align='left'>int64</td><td align='left'>0</td><td>()</td><td>()</td><td>4000</td></tr><tr><td align='left'><strong>Tissue</strong></td><td align='left'>string</td><td align='left'>0</td><td>()</td><td>()</td><td>\"Cerebellum\"</td></tr><tr><td align='left'><strong>TotalUMI</strong></td><td align='left'>float64</td><td align='left'>1</td><td>cells</td><td>__</td><td>[12784.0, 13307.0, 2107.0, 8177.0, 6399.0, ...]</td></tr><tr><td align='left'><strong>TotalUMIs</strong></td><td align='left'>uint32</td><td align='left'>1</td><td>cells</td><td>__</td><td>[12784, 13307, 2107, 8177, 6399, ...]</td></tr><tr><td align='left'><strong>Unspliced</strong></td><td align='left'>uint16</td><td align='left'>2</td><td>cells ✕ genes</td><td>__ ✕ 33,538</td><td>[[0, 0, 0, 0, 0, ...], [0, 0, 0, 0, 0, ...], [0, 0, 0, 0 ···</td></tr><tr><td align='left'><strong>UnsplicedFraction</strong></td><td align='left'>float32</td><td align='left'>1</td><td>cells</td><td>__</td><td>[0.5686796, 0.44262418, 0.07925961, 0.4013697, 0.5705579 ···</td></tr><tr><td align='left'><strong>Unspliced_ratio</strong></td><td align='left'>float64</td><td align='left'>1</td><td>cells</td><td>__</td><td>[0.5686795994993742, 0.4426241827609529, 0.0792596108210 ···</td></tr><tr><td align='left'><strong>ValidCells</strong></td><td align='left'>bool</td><td align='left'>1</td><td>cells</td><td>__</td><td>[True, True, False, True, True, ...]</td></tr><tr><td align='left'><strong>ValidGenes</strong></td><td align='left'>bool</td><td align='left'>1</td><td>genes</td><td>33,538</td><td>[False, False, False, False, False, ...]</td></tr><tr><td align='left'><strong>Velocyto.__version__</strong></td><td align='left'>string</td><td align='left'>0</td><td>()</td><td>()</td><td>\"0.17.17\"</td></tr><tr><td align='left'><strong>Velocyto.logic</strong></td><td align='left'>string</td><td align='left'>0</td><td>()</td><td>()</td><td>\"Default\"</td></tr><tr><td align='left'><strong>X__X</strong></td><td align='left'>float32</td><td align='left'>1</td><td>cells</td><td>__</td><td>[20.984537, -12.402415, -37.65546, -14.835296, -38.77091 ···</td></tr><tr><td align='left'><strong>X__Y</strong></td><td align='left'>float32</td><td align='left'>1</td><td>cells</td><td>__</td><td>[-17.024769, -24.673735, 18.613382, 28.088419, -6.202308 ···</td></tr></table>"
      ],
      "text/plain": [
       "Workspace with 0 workspaces, 2 dimensions and 59 tensors:\n",
       "  cells <Dimension of variable shape>\n",
       "  genes <Dimension of shape 33538>\n",
       "  Accession <Tensor Accession dtype='string' dims=('genes',), shape=(33538,)>\n",
       "  Age <Tensor Age dtype='string' dims=(), shape=()>\n",
       "  Ambiguous <Tensor Ambiguous dtype='uint16' dims=('cells', 'genes'), shape=(6238, 33538)>\n",
       "  BpLength <Tensor BpLength dtype='int64' dims=(), shape=()>\n",
       "  CDNAConc <Tensor CDNAConc dtype='float64' dims=(), shape=()>\n",
       "  CellConc <Tensor CellConc dtype='int64' dims=(), shape=()>\n",
       "  CellCycleFraction <Tensor CellCycleFraction dtype='float32' dims=('cells',), shape=(6238,)>\n",
       "  CellID <Tensor CellID dtype='string' dims=('cells',), shape=(6238,)>\n",
       "  Chemistry <Tensor Chemistry dtype='string' dims=(), shape=()>\n",
       "  Chromosome <Tensor Chromosome dtype='string' dims=('genes',), shape=(33538,)>\n",
       "  Clusters <Tensor Clusters dtype='int64' dims=('cells',), shape=(6238,)>\n",
       "  Comment <Tensor Comment dtype='string' dims=(), shape=()>\n",
       "  CreationDate <Tensor CreationDate dtype='string' dims=(), shape=()>\n",
       "  Donor <Tensor Donor dtype='string' dims=(), shape=()>\n",
       "  DoubletFinderFlag <Tensor DoubletFinderFlag dtype='int64' dims=('cells',), shape=(6238,)>\n",
       "  DoubletFinderScore <Tensor DoubletFinderScore dtype='float64' dims=('cells',), shape=(6238,)>\n",
       "  DoubletFlag <Tensor DoubletFlag dtype='bool' dims=('cells',), shape=(6238,)>\n",
       "  DoubletScore <Tensor DoubletScore dtype='float32' dims=('cells',), shape=(6238,)>\n",
       "  End <Tensor End dtype='int64' dims=('genes',), shape=(33538,)>\n",
       "  Expression <Tensor Expression dtype='uint16' dims=('cells', 'genes'), shape=(6238, 33538)>\n",
       "  FinalConc <Tensor FinalConc dtype='float64' dims=(), shape=()>\n",
       "  Gene <Tensor Gene dtype='string' dims=('genes',), shape=(33538,)>\n",
       "  GeneTotalUMIs <Tensor GeneTotalUMIs dtype='uint32' dims=('genes',), shape=(33538,)>\n",
       "  LOOM_SPEC_VERSION <Tensor LOOM_SPEC_VERSION dtype='string' dims=(), shape=()>\n",
       "  MT_ratio <Tensor MT_ratio dtype='float64' dims=('cells',), shape=(6238,)>\n",
       "  MeanExpression <Tensor MeanExpression dtype='float32' dims=('genes',), shape=(33538,)>\n",
       "  MeanTotalUMI <Tensor MeanTotalUMI dtype='float64' dims=(), shape=()>\n",
       "  MitoFraction <Tensor MitoFraction dtype='float32' dims=('cells',), shape=(6238,)>\n",
       "  NGenes <Tensor NGenes dtype='uint32' dims=('cells',), shape=(6238,)>\n",
       "  Nonzeros <Tensor Nonzeros dtype='uint32' dims=('genes',), shape=(33538,)>\n",
       "  PCA <Tensor PCA dtype='float32' dims=('cells', 50), shape=(6238, 50)>\n",
       "  PCRCycles <Tensor PCRCycles dtype='int64' dims=(), shape=()>\n",
       "  PassedQC <Tensor PassedQC dtype='bool' dims=(), shape=()>\n",
       "  PassedQC_MT_ratio <Tensor PassedQC_MT_ratio dtype='uint8' dims=('cells',), shape=(6238,)>\n",
       "  PassedQC_TotalUMI <Tensor PassedQC_TotalUMI dtype='uint8' dims=('cells',), shape=(6238,)>\n",
       "  PassedQC_UMIPerGene <Tensor PassedQC_UMIPerGene dtype='uint8' dims=('cells',), shape=(6238,)>\n",
       "  PassedQC_UnsplicedRatio <Tensor PassedQC_UnsplicedRatio dtype='uint8' dims=('cells',), shape=(6238,)>\n",
       "  RegionOfInterest <Tensor RegionOfInterest dtype='string' dims=(), shape=()>\n",
       "  SampleName <Tensor SampleName dtype='string' dims=(), shape=()>\n",
       "  Sex <Tensor Sex dtype='string' dims=(), shape=()>\n",
       "  Species <Tensor Species dtype='string' dims=(), shape=()>\n",
       "  Spliced <Tensor Spliced dtype='uint16' dims=('cells', 'genes'), shape=(6238, 33538)>\n",
       "  Start <Tensor Start dtype='int64' dims=('genes',), shape=(33538,)>\n",
       "  StdevExpression <Tensor StdevExpression dtype='float32' dims=('genes',), shape=(33538,)>\n",
       "  Strand <Tensor Strand dtype='string' dims=('genes',), shape=(33538,)>\n",
       "  TSNE <Tensor TSNE dtype='float32' dims=('cells', 2), shape=(6238, 2)>\n",
       "  TargetNumCells <Tensor TargetNumCells dtype='int64' dims=(), shape=()>\n",
       "  Tissue <Tensor Tissue dtype='string' dims=(), shape=()>\n",
       "  TotalUMI <Tensor TotalUMI dtype='float64' dims=('cells',), shape=(6238,)>\n",
       "  TotalUMIs <Tensor TotalUMIs dtype='uint32' dims=('cells',), shape=(6238,)>\n",
       "  Unspliced <Tensor Unspliced dtype='uint16' dims=('cells', 'genes'), shape=(6238, 33538)>\n",
       "  UnsplicedFraction <Tensor UnsplicedFraction dtype='float32' dims=('cells',), shape=(6238,)>\n",
       "  Unspliced_ratio <Tensor Unspliced_ratio dtype='float64' dims=('cells',), shape=(6238,)>\n",
       "  ValidCells <Tensor ValidCells dtype='bool' dims=('cells',), shape=(6238,)>\n",
       "  ValidGenes <Tensor ValidGenes dtype='bool' dims=('genes',), shape=(33538,)>\n",
       "  Velocyto.__version__ <Tensor Velocyto.__version__ dtype='string' dims=(), shape=()>\n",
       "  Velocyto.logic <Tensor Velocyto.logic dtype='string' dims=(), shape=()>\n",
       "  X__X <Tensor X__X dtype='float32' dims=('cells',), shape=(6238,)>\n",
       "  X__Y <Tensor X__Y dtype='float32' dims=('cells',), shape=(6238,)>"
      ]
     },
     "execution_count": 9,
     "metadata": {},
     "output_type": "execute_result"
    }
   ],
   "source": [
    "db.samples.TenX207_1"
   ]
  },
  {
   "cell_type": "code",
   "execution_count": 18,
   "metadata": {},
   "outputs": [
    {
     "data": {
      "text/html": [
       "<h4>Cerebellum (shoji.Workspace)</h4><h5>Dimensions</h5><table><tr><th></th><th>shape</th><th>length</th></tr><tr><td align='left'><strong>cells</strong></td><td>None</td><td>940</td></tr><tr><td align='left'><strong>genes</strong></td><td>33,538</td><td>33,538</td></tr></table><h5>Tensors</h5><table><tr><th></th><th>dtype</th><th>rank</th><th>dims</th><th>shape</th><th>(values)</th></tr><tr><td align='left'><strong>Accession</strong></td><td align='left'>string</td><td align='left'>1</td><td>genes</td><td>33,538</td><td>[\"ENSG00000237613\", \"ENSG00000238009\", \"ENSG00000239945\" ···</td></tr><tr><td align='left'><strong>Age</strong></td><td align='left'>string</td><td align='left'>1</td><td>cells</td><td>__</td><td>[\"11.5w\", \"11.5w\", \"11.5w\", \"11.5w\", \"11.5w\", ...]</td></tr><tr><td align='left'><strong>CellCycleFraction</strong></td><td align='left'>float32</td><td align='left'>1</td><td>cells</td><td>__</td><td>[0.0025813517, 0.0024798978, 0.0013452367, 0.0015627441, ···</td></tr><tr><td align='left'><strong>Chemistry</strong></td><td align='left'>string</td><td align='left'>1</td><td>cells</td><td>__</td><td>[\"v3\", \"v3\", \"v3\", \"v3\", \"v3\", ...]</td></tr><tr><td align='left'><strong>Chromosome</strong></td><td align='left'>string</td><td align='left'>1</td><td>genes</td><td>33,538</td><td>[\"1\", \"1\", \"1\", \"1\", \"1\", ...]</td></tr><tr><td align='left'><strong>Donor</strong></td><td align='left'>string</td><td align='left'>1</td><td>cells</td><td>__</td><td>[\"XDD:358\", \"XDD:358\", \"XDD:358\", \"XDD:358\", \"XDD:358\", ...]</td></tr><tr><td align='left'><strong>DoubletFlag</strong></td><td align='left'>bool</td><td align='left'>1</td><td>cells</td><td>__</td><td>[False, False, False, False, False, ...]</td></tr><tr><td align='left'><strong>DoubletScore</strong></td><td align='left'>float32</td><td align='left'>1</td><td>cells</td><td>__</td><td>[0.06451613, 0.16129032, 0.032258064, 0.0, 0.032258064, ...]</td></tr><tr><td align='left'><strong>End</strong></td><td align='left'>int64</td><td align='left'>1</td><td>genes</td><td>33,538</td><td>[36081, 133723, 91105, 140339, 451697, ...]</td></tr><tr><td align='left'><strong>Expression</strong></td><td align='left'>uint16</td><td align='left'>2</td><td>cells ✕ genes</td><td>__ ✕ 33,538</td><td>[[0, 0, 0, 0, 0, ...], [0, 0, 0, 0, 0, ...], [0, 0, 0, 0 ···</td></tr><tr><td align='left'><strong>Gene</strong></td><td align='left'>string</td><td align='left'>1</td><td>genes</td><td>33,538</td><td>[\"FAM138A\", \"AL627309.1\", \"AL627309.3\", \"AL627309.2\", \"O ···</td></tr><tr><td align='left'><strong>MitoFraction</strong></td><td align='left'>float32</td><td align='left'>1</td><td>cells</td><td>__</td><td>[0.0075876093, 0.02134215, 0.028983735, 0.011564307, 0.0 ···</td></tr><tr><td align='left'><strong>NGenes</strong></td><td align='left'>uint32</td><td align='left'>1</td><td>cells</td><td>__</td><td>[4627, 4791, 3610, 2802, 528, ...]</td></tr><tr><td align='left'><strong>SampleName</strong></td><td align='left'>string</td><td align='left'>1</td><td>cells</td><td>__</td><td>[\"XDD:358_Cerebellum\", \"XDD:358_Cerebellum\", \"XDD:358_Ce ···</td></tr><tr><td align='left'><strong>Sex</strong></td><td align='left'>string</td><td align='left'>1</td><td>cells</td><td>__</td><td>[\"\", \"\", \"\", \"\", \"\", ...]</td></tr><tr><td align='left'><strong>Spliced</strong></td><td align='left'>uint16</td><td align='left'>2</td><td>cells ✕ genes</td><td>__ ✕ 33,538</td><td>[[0, 0, 0, 0, 0, ...], [0, 0, 0, 0, 0, ...], [0, 0, 0, 0 ···</td></tr><tr><td align='left'><strong>Start</strong></td><td align='left'>int64</td><td align='left'>1</td><td>genes</td><td>33,538</td><td>[34554, 89295, 89551, 139790, 450703, ...]</td></tr><tr><td align='left'><strong>Strand</strong></td><td align='left'>string</td><td align='left'>1</td><td>genes</td><td>33,538</td><td>[\"-\", \"-\", \"-\", \"-\", \"-\", ...]</td></tr><tr><td align='left'><strong>Tissue</strong></td><td align='left'>string</td><td align='left'>1</td><td>cells</td><td>__</td><td>[\"Cerebellum\", \"Cerebellum\", \"Cerebellum\", \"Cerebellum\", ···</td></tr><tr><td align='left'><strong>TotalUMIs</strong></td><td align='left'>uint32</td><td align='left'>1</td><td>cells</td><td>__</td><td>[12784, 13307, 8177, 6399, 21974, ...]</td></tr><tr><td align='left'><strong>Unspliced</strong></td><td align='left'>uint16</td><td align='left'>2</td><td>cells ✕ genes</td><td>__ ✕ 33,538</td><td>[[0, 0, 0, 0, 0, ...], [0, 0, 0, 0, 0, ...], [0, 0, 0, 0 ···</td></tr><tr><td align='left'><strong>UnsplicedFraction</strong></td><td align='left'>float32</td><td align='left'>1</td><td>cells</td><td>__</td><td>[0.5686796, 0.44262418, 0.4013697, 0.5705579, 0.3765359, ···</td></tr><tr><td align='left'><strong>ValidCells</strong></td><td align='left'>bool</td><td align='left'>1</td><td>cells</td><td>__</td><td>[True, True, True, True, True, ...]</td></tr></table>"
      ],
      "text/plain": [
       "Workspace with 0 workspaces, 2 dimensions and 23 tensors:\n",
       "  cells <Dimension of variable shape>\n",
       "  genes <Dimension of shape 33538>\n",
       "  Accession <Tensor Accession dtype='string' dims=('genes',), shape=(33538,)>\n",
       "  Age <Tensor Age dtype='string' dims=('cells',), shape=(940,)>\n",
       "  CellCycleFraction <Tensor CellCycleFraction dtype='float32' dims=('cells',), shape=(940,)>\n",
       "  Chemistry <Tensor Chemistry dtype='string' dims=('cells',), shape=(940,)>\n",
       "  Chromosome <Tensor Chromosome dtype='string' dims=('genes',), shape=(33538,)>\n",
       "  Donor <Tensor Donor dtype='string' dims=('cells',), shape=(940,)>\n",
       "  DoubletFlag <Tensor DoubletFlag dtype='bool' dims=('cells',), shape=(940,)>\n",
       "  DoubletScore <Tensor DoubletScore dtype='float32' dims=('cells',), shape=(940,)>\n",
       "  End <Tensor End dtype='int64' dims=('genes',), shape=(33538,)>\n",
       "  Expression <Tensor Expression dtype='uint16' dims=('cells', 'genes'), shape=(940, 33538)>\n",
       "  Gene <Tensor Gene dtype='string' dims=('genes',), shape=(33538,)>\n",
       "  MitoFraction <Tensor MitoFraction dtype='float32' dims=('cells',), shape=(940,)>\n",
       "  NGenes <Tensor NGenes dtype='uint32' dims=('cells',), shape=(940,)>\n",
       "  SampleName <Tensor SampleName dtype='string' dims=('cells',), shape=(940,)>\n",
       "  Sex <Tensor Sex dtype='string' dims=('cells',), shape=(940,)>\n",
       "  Spliced <Tensor Spliced dtype='uint16' dims=('cells', 'genes'), shape=(940, 33538)>\n",
       "  Start <Tensor Start dtype='int64' dims=('genes',), shape=(33538,)>\n",
       "  Strand <Tensor Strand dtype='string' dims=('genes',), shape=(33538,)>\n",
       "  Tissue <Tensor Tissue dtype='string' dims=('cells',), shape=(940,)>\n",
       "  TotalUMIs <Tensor TotalUMIs dtype='uint32' dims=('cells',), shape=(940,)>\n",
       "  Unspliced <Tensor Unspliced dtype='uint16' dims=('cells', 'genes'), shape=(940, 33538)>\n",
       "  UnsplicedFraction <Tensor UnsplicedFraction dtype='float32' dims=('cells',), shape=(940,)>\n",
       "  ValidCells <Tensor ValidCells dtype='bool' dims=('cells',), shape=(940,)>"
      ]
     },
     "execution_count": 18,
     "metadata": {},
     "output_type": "execute_result"
    }
   ],
   "source": [
    "db.builds.humandev.Cerebellum"
   ]
  },
  {
   "cell_type": "code",
   "execution_count": 56,
   "metadata": {},
   "outputs": [],
   "source": [
    "ws = db.builds.humandev.Cerebellum\n",
    "n = ws.TotalUMIs[:]\n",
    "n_sum = n.sum()\n",
    "gn = ws.GeneTotalUMIs[:]\n",
    "d_j = np.zeros((1, ws.genes.length))\n",
    "for ix in range(0, ws.cells.length, 1000):\n",
    "    pi_hat_j = (gn / n_sum)[None, :]\n",
    "    y_ji = ws.Expression[ix: ix + 1000]\n",
    "    n_i = n[ix: ix + 1000][:, None]\n",
    "    with np.errstate(divide='ignore', invalid='ignore'):\n",
    "        # This would be faster as a numba nested for loop\n",
    "        d_j += 2 * np.sum(np.nan_to_num(y_ji * np.log(div0(y_ji , (n_i * pi_hat_j)))) + (n_i - y_ji) * np.log((n_i - y_ji) / (n_i * (1 - pi_hat_j))), axis=0)"
   ]
  },
  {
   "cell_type": "code",
   "execution_count": 57,
   "metadata": {},
   "outputs": [
    {
     "data": {
      "text/plain": [
       "array([[  0.        , 225.12867581,  65.51292392, ...,   0.        ,\n",
       "          0.        ,   0.        ]])"
      ]
     },
     "execution_count": 57,
     "metadata": {},
     "output_type": "execute_result"
    }
   ],
   "source": [
    "d_j"
   ]
  },
  {
   "cell_type": "code",
   "execution_count": 45,
   "metadata": {},
   "outputs": [
    {
     "name": "stderr",
     "output_type": "stream",
     "text": [
      "<ipython-input-45-8967f57f6685>:7: RuntimeWarning: divide by zero encountered in log\n",
      "  2 * np.sum(np.nan_to_num(y_ji * np.log(div0(y_ji , (n_i[:, None] * pi_hat_j[None, :])))) + (n_i[:, None] - y_ji) * np.log((n_i[:, None] - y_ji) / (n_i[:, None] * (1 - pi_hat_j[None, :]))), axis=0)\n",
      "<ipython-input-45-8967f57f6685>:7: RuntimeWarning: invalid value encountered in multiply\n",
      "  2 * np.sum(np.nan_to_num(y_ji * np.log(div0(y_ji , (n_i[:, None] * pi_hat_j[None, :])))) + (n_i[:, None] - y_ji) * np.log((n_i[:, None] - y_ji) / (n_i[:, None] * (1 - pi_hat_j[None, :]))), axis=0)\n"
     ]
    },
    {
     "data": {
      "text/plain": [
       "array([0.        , 2.08423978, 0.49040934, ..., 0.        , 0.        ,\n",
       "       0.        ])"
      ]
     },
     "execution_count": 45,
     "metadata": {},
     "output_type": "execute_result"
    }
   ],
   "source": [
    "def div0(a: np.ndarray, b: np.ndarray) -> np.ndarray:\n",
    "\t\"\"\" ignore / 0, div0( [-1, 0, 1], 0 ) -> [0, 0, 0] \"\"\"\n",
    "\twith np.errstate(divide='ignore', invalid='ignore'):\n",
    "\t\tc = np.true_divide(a, b)\n",
    "\t\tc[~np.isfinite(c)] = 0  # -inf inf NaN\n",
    "\treturn c\n",
    "2 * np.sum(np.nan_to_num(y_ji * np.log(div0(y_ji , (n_i[:, None] * pi_hat_j[None, :])))) + (n_i[:, None] - y_ji) * np.log((n_i[:, None] - y_ji) / (n_i[:, None] * (1 - pi_hat_j[None, :]))), axis=0)"
   ]
  },
  {
   "cell_type": "code",
   "execution_count": 41,
   "metadata": {},
   "outputs": [
    {
     "data": {
      "text/plain": [
       "array([[12784, 12784, 12784, ..., 12784, 12784, 12784],\n",
       "       [13307, 13307, 13307, ..., 13307, 13307, 13307],\n",
       "       [ 8177,  8177,  8177, ...,  8177,  8177,  8177],\n",
       "       ...,\n",
       "       [20886, 20886, 20886, ..., 20886, 20886, 20886],\n",
       "       [12793, 12793, 12793, ..., 12793, 12793, 12793],\n",
       "       [11792, 11792, 11792, ..., 11792, 11792, 11792]], dtype=uint32)"
      ]
     },
     "execution_count": 41,
     "metadata": {},
     "output_type": "execute_result"
    }
   ],
   "source": [
    "(n_i[:, None] - y_ji)"
   ]
  },
  {
   "cell_type": "code",
   "execution_count": 43,
   "metadata": {},
   "outputs": [
    {
     "data": {
      "text/plain": [
       "array([[0.00000000e+00, 9.10581797e-08, 2.14254532e-08, ...,\n",
       "        0.00000000e+00, 0.00000000e+00, 0.00000000e+00],\n",
       "       [0.00000000e+00, 9.10581797e-08, 2.14254534e-08, ...,\n",
       "        0.00000000e+00, 0.00000000e+00, 0.00000000e+00],\n",
       "       [0.00000000e+00, 9.10581797e-08, 2.14254534e-08, ...,\n",
       "        0.00000000e+00, 0.00000000e+00, 0.00000000e+00],\n",
       "       ...,\n",
       "       [0.00000000e+00, 9.10581795e-08, 2.14254534e-08, ...,\n",
       "        0.00000000e+00, 0.00000000e+00, 0.00000000e+00],\n",
       "       [0.00000000e+00, 9.10581797e-08, 2.14254532e-08, ...,\n",
       "        0.00000000e+00, 0.00000000e+00, 0.00000000e+00],\n",
       "       [0.00000000e+00, 9.10581797e-08, 2.14254532e-08, ...,\n",
       "        0.00000000e+00, 0.00000000e+00, 0.00000000e+00]])"
      ]
     },
     "execution_count": 43,
     "metadata": {},
     "output_type": "execute_result"
    }
   ],
   "source": [
    "np.log((n_i[:, None] - y_ji) / (n_i[:, None] * (1 - pi_hat_j[None, :])))"
   ]
  },
  {
   "cell_type": "code",
   "execution_count": 31,
   "metadata": {},
   "outputs": [
    {
     "data": {
      "text/plain": [
       "array([ 0, 17,  4, ...,  0,  0,  0], dtype=uint32)"
      ]
     },
     "execution_count": 31,
     "metadata": {},
     "output_type": "execute_result"
    }
   ],
   "source": [
    "gn"
   ]
  },
  {
   "cell_type": "code",
   "execution_count": null,
   "metadata": {},
   "outputs": [],
   "source": []
  }
 ],
 "metadata": {
  "kernelspec": {
   "display_name": "Python 3",
   "language": "python",
   "name": "python3"
  },
  "language_info": {
   "codemirror_mode": {
    "name": "ipython",
    "version": 3
   },
   "file_extension": ".py",
   "mimetype": "text/x-python",
   "name": "python",
   "nbconvert_exporter": "python",
   "pygments_lexer": "ipython3",
   "version": "3.8.3"
  }
 },
 "nbformat": 4,
 "nbformat_minor": 4
}

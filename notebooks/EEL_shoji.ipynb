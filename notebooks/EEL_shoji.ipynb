{
 "cells": [
  {
   "cell_type": "code",
   "execution_count": 1,
   "metadata": {},
   "outputs": [],
   "source": [
    "%gui qt5\n",
    "import napari\n",
    "import pandas as pd\n",
    "import numpy as np\n",
    "import random\n",
    "import shoji\n",
    "import loompy"
   ]
  },
  {
   "cell_type": "code",
   "execution_count": 14,
   "metadata": {},
   "outputs": [
    {
     "name": "stdout",
     "output_type": "stream",
     "text": [
      "init\n"
     ]
    },
    {
     "data": {
      "text/plain": [
       "(3, 4)"
      ]
     },
     "execution_count": 14,
     "metadata": {},
     "output_type": "execute_result"
    }
   ],
   "source": [
    "import pickle\n",
    "class Test:\n",
    "    def __init__(self, x: int):\n",
    "        self.x = x\n",
    "        self.y = 2\n",
    "        print(\"init\")\n",
    "\n",
    "    def __getstate__(self):\n",
    "        return (self.x, self.y)\n",
    "\n",
    "    def __setstate__(self, state):\n",
    "        \"\"\"Restore state from the unpickled state values.\"\"\"\n",
    "        self.x, self.y = state\n",
    "t = Test(3)\n",
    "t.y = 4\n",
    "t2 = pickle.loads(pickle.dumps(t))\n",
    "t2.x, t2.y"
   ]
  },
  {
   "cell_type": "markdown",
   "metadata": {},
   "source": [
    "## Connect to the shoji database"
   ]
  },
  {
   "cell_type": "code",
   "execution_count": 3,
   "metadata": {},
   "outputs": [],
   "source": [
    "db = shoji.connect()\n",
    "if \"eel\" not in db:\n",
    "    db.eel = shoji.Workspace()"
   ]
  },
  {
   "cell_type": "code",
   "execution_count": 33,
   "metadata": {},
   "outputs": [],
   "source": [
    "def make_eel_workspace(name):\n",
    "    if name not in db.eel:\n",
    "        # Create a workspace for the dataset\n",
    "        db.eel[name] = shoji.Workspace()\n",
    "        ws = db.eel[name]\n",
    "\n",
    "        # Create some dimensions\n",
    "        ws.genes = shoji.Dimension(shape=None)   # None means jagged or variable-length\n",
    "        ws.dots =  shoji.Dimension(shape=None)   # None means jagged\n",
    "        ws.xy =    shoji.Dimension(shape=2)      # 2 spatial coordinates\n",
    "        ws.bits =  shoji.Dimension(shape=16)     # 16 bits barcode length\n",
    "\n",
    "        # Create tensors\n",
    "        ws.PixelMicrons =        shoji.Tensor(\"float32\", dims=(), inits=0.183333)          # () means scalar\n",
    "        ws.PixelHoodSize =       shoji.Tensor(\"uint16\", dims=(), inits=3)\n",
    "\n",
    "        ws.StitchedCoords =      shoji.Tensor(\"float32\", (\"genes\", \"dots\", \"xy\"))\n",
    "#        ws.RegisteredCoords =    shoji.Tensor(\"float32\", (\"genes\", \"dots\", \"xy\"))\n",
    "#        ws.OriginalCoords =      shoji.Tensor(\"float32\", (\"genes\", \"dots\", \"xy\"))\n",
    "#        ws.Shift =               shoji.Tensor(\"float32\", (\"genes\", \"dots\", \"xy\"))\n",
    "\n",
    "#        ws.RawBarcode =          shoji.Tensor(\"bool\",    (\"genes\", \"dots\", \"bits\"))\n",
    "        ws.Gene =                shoji.Tensor(\"string\",  (\"genes\", ))\n",
    "        ws.GeneColor =           shoji.Tensor(\"uint8\",   (\"genes\", 3))                   # RGB values for genes\n",
    "#        ws.DotID =               shoji.Tensor(\"string\",  (\"genes\", \"dots\"))\n",
    "#        ws.HammingDistance =     shoji.Tensor(\"float32\", (\"genes\", \"dots\"))\n",
    "#        ws.IntensityNormalized = shoji.Tensor(\"float32\", (\"genes\", \"dots\"))\n",
    "#        ws.Intensity =           shoji.Tensor(\"float32\", (\"genes\", \"dots\"))\n",
    "#        ws.SelectedThreshold =   shoji.Tensor(\"float32\", (\"genes\", \"dots\"))\n",
    "#        ws.FOV =                 shoji.Tensor(\"uint16\",  (\"genes\", \"dots\"))\n",
    "#        ws.Round =               shoji.Tensor(\"uint16\",  (\"genes\", \"dots\"))\n",
    "    return db.eel[name]"
   ]
  },
  {
   "cell_type": "code",
   "execution_count": 34,
   "metadata": {},
   "outputs": [],
   "source": [
    "def load_eel_data(wsname, parquet_file):\n",
    "    ws = make_eel_workspace(wsname)\n",
    "    r = lambda: random.randint(0,255)\n",
    "\n",
    "    stitched_coords = pd.read_parquet(parquet_file)\n",
    "    gene_grp = stitched_coords.groupby('gene')\n",
    "\n",
    "    # Add rows, one at a time, across all tensors\n",
    "    # (it would be *much* more efficient to append multiple, or all, rows at a time, but our input is organized this way)\n",
    "    for gene, coords in gene_grp:\n",
    "        ws.genes.append({\n",
    "            \"StitchedCoords\":      coords.loc[:,['c_stitched_coords','r_stitched_coords']].values[None],\n",
    "#            \"RegisteredCoords\":    coords.loc[:,['c_px_registered','r_px_registered']].values[None],\n",
    "#            \"OriginalCoords\":      coords.loc[:,['c_px_original','r_px_original']].values[None],\n",
    "#            \"Shift\":               coords.loc[:,['c_shift','r_shift']].values[None],\n",
    "#            \"RawBarcode\":          np.array([np.array([x == 1 for x in vals[0]]) for vals in coords.loc[:, ['raw_barcodes']].values])[None],  # Convert the bytes objects to bool arrays\n",
    "            \"Gene\":                np.array(gene, dtype=\"object\")[None],  # Note: must convert string numpy arrays to object arrays\n",
    "            \"GeneColor\":           np.array([[r(),r(),r()]], dtype=\"uint8\"),\n",
    "#            \"DotID\":               coords.loc[:, ['dot_id']].values.T,\n",
    "#            \"HammingDistance\":     coords.loc[:, ['hamming_distance_barcode']].values.T,\n",
    "#            \"IntensityNormalized\": coords.loc[:, ['dot_intensity_norm']].values.T,\n",
    "#            \"Intensity\":           coords.loc[:, ['dot_intensity_not']].values.T,\n",
    "#            \"SelectedThreshold\":   coords.loc[:, ['selected_thr']].values.T,\n",
    "#            \"FOV\":                 coords.loc[:, ['fov_num']].values.T,\n",
    "#            \"Round\":               coords.loc[:, ['round_num']].values.T,\n",
    "        })\n",
    "    \n",
    "    ws.genes = shoji.Dimension(shape=ws.genes.length)  # Fix the genes dimension"
   ]
  },
  {
   "cell_type": "markdown",
   "metadata": {},
   "source": [
    "## Load data into the workspace"
   ]
  },
  {
   "cell_type": "code",
   "execution_count": 7,
   "metadata": {},
   "outputs": [],
   "source": [
    "load_eel_data(\"human_embryo_1\", \"/Users/stelin/Downloads/20201215-beads-registered-LBEXP20201207_EEL_HE_test2_stitched_coords_perfect_match_max_2_miss.parquet\")"
   ]
  },
  {
   "cell_type": "code",
   "execution_count": 36,
   "metadata": {},
   "outputs": [],
   "source": [
    "load_eel_data(\"human_embryo_2\", \"/Users/stelin/Downloads/20201215-beads-registered-LBEXP20201207_EEL_HE_test2_stitched_coords.parquet\")"
   ]
  },
  {
   "cell_type": "code",
   "execution_count": 49,
   "metadata": {},
   "outputs": [],
   "source": [
    "load_eel_data(\"gbm_1\", \"/Users/stelin/Downloads/20201201-beads-registered-JJEXP20201123_hGBM_Amine_test_stitched_coords.parquet\")"
   ]
  },
  {
   "cell_type": "markdown",
   "metadata": {},
   "source": [
    "## Show the workspace"
   ]
  },
  {
   "cell_type": "code",
   "execution_count": 50,
   "metadata": {},
   "outputs": [
    {
     "data": {
      "text/html": [
       "<h4>gbm_1 (shoji.Workspace)</h4><h5>Dimensions</h5><table><tr><th></th><th>shape</th><th>length</th></tr><tr><td align='left'><strong>bits</strong></td><td>16</td><td>0</td></tr><tr><td align='left'><strong>dots</strong></td><td>None</td><td>0</td></tr><tr><td align='left'><strong>genes</strong></td><td>448</td><td>448</td></tr><tr><td align='left'><strong>xy</strong></td><td>2</td><td>0</td></tr></table><h5>Tensors</h5><table><tr><th></th><th>dtype</th><th>rank</th><th>dims</th><th>shape</th><th>(values)</th></tr><tr><td align='left'><strong>Gene</strong></td><td align='left'>string</td><td align='left'>1</td><td>genes</td><td>448</td><td>[\"ACSL1\", \"ACTA2\", \"ADARB2\", \"ADGRV1\", \"AHSP\", ...]</td></tr><tr><td align='left'><strong>GeneColor</strong></td><td align='left'>uint8</td><td align='left'>2</td><td>genes ✕ 3</td><td>448 ✕ 3</td><td>[[86, 254, 237], [165, 153, 212], [40, 187, 166], [24, 1 ···</td></tr><tr><td align='left'><strong>PixelHoodSize</strong></td><td align='left'>uint16</td><td align='left'>0</td><td>()</td><td>()</td><td>3</td></tr><tr><td align='left'><strong>PixelMicrons</strong></td><td align='left'>float32</td><td align='left'>0</td><td>()</td><td>()</td><td>0.18333299458026886</td></tr><tr><td align='left'><strong>StitchedCoords</strong></td><td align='left'>float32</td><td align='left'>3</td><td>genes ✕ dots ✕ xy</td><td>448 ✕ __ ✕ 2</td><td>[[[-44384.55702555595, 11641.585482128894], [-44481.5570 ···</td></tr></table>"
      ],
      "text/plain": [
       "Workspace with 0 workspaces, 4 dimensions and 5 tensors:\n",
       "  bits <Dimension of shape 16>\n",
       "  dots <Dimension of variable shape>\n",
       "  genes <Dimension of shape 448>\n",
       "  xy <Dimension of shape 2>\n",
       "  Gene <Tensor Gene dtype='string' dims=('genes',), shape=(448,)>\n",
       "  GeneColor <Tensor GeneColor dtype='uint8' dims=('genes', 3), shape=(448, 3)>\n",
       "  PixelHoodSize <Tensor PixelHoodSize dtype='uint16' dims=(), shape=()>\n",
       "  PixelMicrons <Tensor PixelMicrons dtype='float32' dims=(), shape=()>\n",
       "  StitchedCoords <Tensor StitchedCoords dtype='float32' dims=('genes', 'dots', 'xy'), shape=(448, 9516, 2)>"
      ]
     },
     "execution_count": 50,
     "metadata": {},
     "output_type": "execute_result"
    }
   ],
   "source": [
    "ws = db.eel.gbm_1\n",
    "ws"
   ]
  },
  {
   "cell_type": "markdown",
   "metadata": {},
   "source": [
    "## Use napari to browse the data"
   ]
  },
  {
   "cell_type": "code",
   "execution_count": 54,
   "metadata": {},
   "outputs": [
    {
     "data": {
      "text/plain": [
       "array(['ACSL1', 'ACTA2', 'ADARB2', 'ADGRV1', 'AHSP', 'AIF1', 'AKAP6',\n",
       "       'ALAS2', 'ANKS1B', 'APOC1', 'APOE', 'AQP4', 'ARX', 'ASCL1',\n",
       "       'ASTN2', 'B2M', 'BARHL1', 'BCAN', 'BCAS1', 'BCL11B', 'BHLHE22',\n",
       "       'C1QA', 'C1QB', 'C1QC', 'C1QL4', 'C1orf61', 'C5orf58', 'CA8',\n",
       "       'CACNA2D1', 'CACNA2D3', 'CADM2', 'CALM1', 'CAPS', 'CBLB', 'CCL18',\n",
       "       'CCL20', 'CCL3', 'CCL3L1', 'CCL4', 'CCL4L2', 'CCL5', 'CCND1',\n",
       "       'CCNO', 'CCSER1', 'CD163', 'CD2', 'CD36', 'CD3D', 'CD4', 'CD69',\n",
       "       'CD74', 'CD79B', 'CD84', 'CD8A', 'CD93', 'CD99', 'CDH12', 'CDH8',\n",
       "       'CDK1', 'CDKN1C', 'CELF4', 'CENPF', 'CHAT', 'CKS2', 'CLDN5', 'CLU',\n",
       "       'CNTN1', 'CNTN4', 'CNTN5', 'CNTNAP2', 'CNTNAP5', 'COL1A1',\n",
       "       'COL1A2', 'COL3A1', 'COL4A1', 'CRABP1', 'CREB5', 'CRYAB', 'CSF2RA',\n",
       "       'CSMD1', 'CST3', 'CTGF', 'CTSB', 'CXCL8', 'CYBB', 'Control1',\n",
       "       'Control2', 'Control3', 'Control4', 'Control5', 'Control6',\n",
       "       'Control7', 'DAB1', 'DAB2', 'DBH', 'DCC', 'DCN', 'DLEU2', 'DLK1',\n",
       "       'DLL3', 'DLX1', 'DLX2', 'DLX5', 'DLX6', 'DNAJB1', 'DNER', 'DOK5',\n",
       "       'DPP10', 'DSCAM', 'EBF1', 'EBF2', 'EBF3', 'EDNRB', 'EFNA5', 'EGFR',\n",
       "       'EGR3', 'ELN', 'EMB', 'EMX2', 'EN1', 'ENC1', 'ENO1', 'ENOX1',\n",
       "       'EOMES', 'ERBB4', 'EREG', 'ESRRG', 'ETV1', 'FABP5', 'FABP7',\n",
       "       'FAM155A', 'FCGBP', 'FCGR3A', 'FEV', 'FGF17', 'FGFBP3', 'FGL1',\n",
       "       'FLT1', 'FN1', 'FOLR1', 'FOLR2', 'FOXJ1', 'FOXP2', 'FOXP3', 'FRZB',\n",
       "       'FSTL4', 'FTL', 'GAD1', 'GAD2', 'GADD45G', 'GALNTL6', 'GAP43',\n",
       "       'GATA3', 'GBX1', 'GJA1', 'GLI3', 'GNG5', 'GNG8', 'GNLY', 'GNRH1',\n",
       "       'GPC3', 'GPC5', 'GPM6B', 'GPNMB', 'GPR183', 'GPR34', 'GRID2',\n",
       "       'GRIK1', 'GRIK2', 'GRM7', 'GZMA', 'GZMB', 'GZMK', 'H2AFZ', 'HBA1',\n",
       "       'HBA2', 'HBB', 'HBG1', 'HBM', 'HBZ', 'HES1', 'HES4', 'HES5',\n",
       "       'HES6', 'HEXB', 'HIST1H4C', 'HK2', 'HLA-DPB1', 'HLA-DQB1', 'HMGA2',\n",
       "       'HMGB2', 'HMOX1', 'HOPX', 'HOXB2', 'HOXB7', 'HS3ST4', 'HS6ST3',\n",
       "       'HTR2C', 'IBSP', 'ID1', 'ID3', 'ID4', 'IFI30', 'IGFBP5', 'IGFBP7',\n",
       "       'IGKC', 'IL1B', 'IL1R2', 'IL32', 'IL7R', 'INA', 'IQCJ-SCHIP1',\n",
       "       'IRF8', 'ITM2A', 'JCHAIN', 'KCND2', 'KCNIP4', 'KCNMB2-AS1',\n",
       "       'KIRREL3', 'KLRB1', 'KPNA2', 'KYNU', 'LAMA2', 'LAMP5', 'LHX1',\n",
       "       'LHX2', 'LHX5-AS1', 'LHX8', 'LHX9', 'LMO3', 'LMO4', 'LOX', 'LRP1B',\n",
       "       'LRRC7', 'LRRTM4', 'LSAMP', 'LSP1', 'LTB', 'LUM', 'LYZ', 'MAB21L1',\n",
       "       'MAB21L2', 'MBP', 'MECOM', 'MEF2C', 'MEIS2', 'MEST', 'MFAP4',\n",
       "       'MGAT4C', 'MGP', 'MGST1', 'MOG', 'MPPED2', 'MPZ', 'MRC1', 'MS4A1',\n",
       "       'MSR1', 'MSX1', 'MT1G', 'MT1H', 'MT1X', 'MT2A', 'MT3', 'MZB1',\n",
       "       'NAV3', 'NBAT1', 'NCKAP5', 'NEFL', 'NEFM', 'NEUROD2', 'NEUROD6',\n",
       "       'NEUROG1', 'NEUROG2', 'NFIA', 'NFIB', 'NHLH1', 'NHLH2', 'NKAIN2',\n",
       "       'NKAIN3', 'NKG7', 'NOVA1', 'NPAS3', 'NPY', 'NRG1', 'NRN1', 'NRXN3',\n",
       "       'NTN1', 'NTNG1', 'NTRK1', 'NTRK2', 'NTRK3', 'NXPH1', 'OLIG1',\n",
       "       'OLIG2', 'OLR1', 'OPCML', 'OSM', 'OTP', 'P2RY12', 'PAM', 'PAX2',\n",
       "       'PAX3', 'PAX6', 'PAX8', 'PBX3', 'PCDH15', 'PCDH9', 'PCNA', 'PCP4',\n",
       "       'PDGFRA', 'PDZRN3', 'PDZRN4', 'PEG10', 'PF4', 'PHOX2B', 'PITX1',\n",
       "       'PITX2', 'PLCB1', 'PLD5', 'PLP1', 'PLXDC2', 'PNMT', 'POMC', 'PPBP',\n",
       "       'PPP1R17', 'PRKG1', 'PRPH', 'PSAP', 'PTGDS', 'PTN', 'PTPRD',\n",
       "       'PTPRZ1', 'PTTG1', 'RAB20', 'RALYL', 'RBFOX1', 'RBFOX3', 'RBP1',\n",
       "       'RELN', 'RGCC', 'RGS10', 'RGS16', 'RND3', 'RNF220', 'ROBO1',\n",
       "       'ROBO2', 'ROBO3', 'RORA', 'RPL13A', 'RSPH1', 'RSPO2', 'RSPO3',\n",
       "       'RTN1', 'RUNX1T1', 'S100A4', 'S100A8', 'S100A9', 'S100B', 'SAT1',\n",
       "       'SCML4', 'SFRP1', 'SHOX2', 'SIX3', 'SLAMF8', 'SLC16A10', 'SLC17A6',\n",
       "       'SLC17A7', 'SLC17A8', 'SLC18A1', 'SLC18A2', 'SLC18A3', 'SLC25A37',\n",
       "       'SLC2A1', 'SLC32A1', 'SLC5A7', 'SLC6A3', 'SLC6A5', 'SLC6A9',\n",
       "       'SLC7A5', 'SLC8A1', 'SLCO2B1', 'SLIT2', 'SNCA', 'SNCG', 'SOX10',\n",
       "       'SOX5', 'SOX6', 'SPARCL1', 'SPOCK3', 'SPON1', 'SPP1', 'SST',\n",
       "       'ST18', 'STAB1', 'STK39', 'STMN1', 'STMN2', 'STMN3', 'SULF1',\n",
       "       'SYNE2', 'TAC1', 'TAGLN', 'TAGLN3', 'TAL2', 'TCF4', 'TCF7L2',\n",
       "       'TENM2', 'TENM3', 'TFAP2B', 'TFEC', 'TGFBI', 'TH', 'THSD7A',\n",
       "       'THSD7B', 'TMEFF2', 'TMEM212', 'TMIGD3', 'TMSB10', 'TMSB4X',\n",
       "       'TOP2A', 'TPBG', 'TPH2', 'TRAC', 'TRBC2', 'TREM2', 'TRPM3',\n",
       "       'TSHZ2', 'TTR', 'TTYH1', 'TUBA1B', 'TXN', 'TXNDC5', 'TYROBP',\n",
       "       'UBE2C', 'UNC5C', 'UNC5D', 'VAMP8', 'VIM', 'VSIG4', 'VWF', 'VXN',\n",
       "       'WLS', 'ZBTB20', 'ZEB1', 'ZFAND2A', 'ZFHX3', 'ZFPM2', 'ZIC1'],\n",
       "      dtype=object)"
      ]
     },
     "execution_count": 54,
     "metadata": {},
     "output_type": "execute_result"
    }
   ],
   "source": [
    "ws.Gene[...]"
   ]
  },
  {
   "cell_type": "code",
   "execution_count": 55,
   "metadata": {},
   "outputs": [],
   "source": [
    "ws = db.eel.gbm_1\n",
    "vw = napari.Viewer('gene')\n"
   ]
  },
  {
   "cell_type": "code",
   "execution_count": 56,
   "metadata": {},
   "outputs": [],
   "source": [
    "genes = ws.Gene[...]\n",
    "coords = ws.StitchedCoords[:]\n",
    "colors = ws.GeneColor[...]\n",
    "for i, gene in enumerate(genes):\n",
    "    xy = coords[i]\n",
    "    xy[:, 1] = np.max(xy[:, 1]) - xy[:, 1]\n",
    "    col = '#%02X%02X%02X' % tuple(colors[i])\n",
    "    _ = vw.add_points(xy, name=gene, size=10, symbol='o', visible=False, edge_color=col, face_color=col)"
   ]
  },
  {
   "cell_type": "code",
   "execution_count": 60,
   "metadata": {},
   "outputs": [
    {
     "data": {
      "text/plain": [
       "False"
      ]
     },
     "execution_count": 60,
     "metadata": {},
     "output_type": "execute_result"
    }
   ],
   "source": [
    "np.ma.getmask(np.arange(12).reshape(3,4))"
   ]
  },
  {
   "cell_type": "code",
   "execution_count": 69,
   "metadata": {},
   "outputs": [
    {
     "data": {
      "text/plain": [
       "masked_array(\n",
       "  data=[[--, --, --, --],\n",
       "        [--, --, --, --],\n",
       "        [--, 9, --, --]],\n",
       "  mask=[[ True,  True,  True,  True],\n",
       "        [ True,  True,  True,  True],\n",
       "        [ True, False,  True,  True]],\n",
       "  fill_value=999999)"
      ]
     },
     "execution_count": 69,
     "metadata": {},
     "output_type": "execute_result"
    }
   ],
   "source": [
    "x = np.ma.array(np.arange(12).reshape(3,4), mask=[[True, True, True, True], [True, True, True, True], [True, False, True, True]])\n",
    "x"
   ]
  },
  {
   "cell_type": "code",
   "execution_count": 71,
   "metadata": {},
   "outputs": [
    {
     "data": {
      "text/plain": [
       "array([[91, 91, 91, 91],\n",
       "       [91, 91, 91, 91],\n",
       "       [91,  9, 91, 91]])"
      ]
     },
     "execution_count": 71,
     "metadata": {},
     "output_type": "execute_result"
    }
   ],
   "source": [
    "x[x.mask] = 91\n",
    "x.data"
   ]
  },
  {
   "cell_type": "code",
   "execution_count": 93,
   "metadata": {},
   "outputs": [],
   "source": [
    "indices = [np.array([1,34,56,79]), np.array([10, 30, 93]), np.array([100, 300, 900, 91])]\n",
    "chunk_sizes = (10, 40, 10)\n",
    "addresses = [list(np.unique(ind // sz)) for ind, sz in zip(indices, chunk_sizes)]"
   ]
  },
  {
   "cell_type": "code",
   "execution_count": 94,
   "metadata": {},
   "outputs": [
    {
     "data": {
      "text/plain": [
       "array([[ 0,  0,  9],\n",
       "       [ 0,  2,  9],\n",
       "       [ 3,  0,  9],\n",
       "       [ 3,  2,  9],\n",
       "       [ 5,  0,  9],\n",
       "       [ 5,  2,  9],\n",
       "       [ 7,  0,  9],\n",
       "       [ 7,  2,  9],\n",
       "       [ 0,  0, 10],\n",
       "       [ 0,  2, 10],\n",
       "       [ 3,  0, 10],\n",
       "       [ 3,  2, 10],\n",
       "       [ 5,  0, 10],\n",
       "       [ 5,  2, 10],\n",
       "       [ 7,  0, 10],\n",
       "       [ 7,  2, 10],\n",
       "       [ 0,  0, 30],\n",
       "       [ 0,  2, 30],\n",
       "       [ 3,  0, 30],\n",
       "       [ 3,  2, 30],\n",
       "       [ 5,  0, 30],\n",
       "       [ 5,  2, 30],\n",
       "       [ 7,  0, 30],\n",
       "       [ 7,  2, 30],\n",
       "       [ 0,  0, 90],\n",
       "       [ 0,  2, 90],\n",
       "       [ 3,  0, 90],\n",
       "       [ 3,  2, 90],\n",
       "       [ 5,  0, 90],\n",
       "       [ 5,  2, 90],\n",
       "       [ 7,  0, 90],\n",
       "       [ 7,  2, 90]])"
      ]
     },
     "execution_count": 94,
     "metadata": {},
     "output_type": "execute_result"
    }
   ],
   "source": [
    "np.array(np.meshgrid(*addresses)).T.reshape(-1, len(indices))"
   ]
  },
  {
   "cell_type": "code",
   "execution_count": 106,
   "metadata": {},
   "outputs": [
    {
     "ename": "ValueError",
     "evalue": "setting an array element with a sequence.",
     "output_type": "error",
     "traceback": [
      "\u001b[0;31m---------------------------------------------------------------------------\u001b[0m",
      "\u001b[0;31mTypeError\u001b[0m                                 Traceback (most recent call last)",
      "\u001b[0;31mTypeError\u001b[0m: only size-1 arrays can be converted to Python scalars",
      "\nThe above exception was the direct cause of the following exception:\n",
      "\u001b[0;31mValueError\u001b[0m                                Traceback (most recent call last)",
      "\u001b[0;32m<ipython-input-106-a6f01086af59>\u001b[0m in \u001b[0;36m<module>\u001b[0;34m\u001b[0m\n\u001b[1;32m      1\u001b[0m \u001b[0mx\u001b[0m \u001b[0;34m=\u001b[0m \u001b[0mnp\u001b[0m\u001b[0;34m.\u001b[0m\u001b[0marange\u001b[0m\u001b[0;34m(\u001b[0m\u001b[0;36m12\u001b[0m\u001b[0;34m)\u001b[0m\u001b[0;34m.\u001b[0m\u001b[0mreshape\u001b[0m\u001b[0;34m(\u001b[0m\u001b[0;36m3\u001b[0m\u001b[0;34m,\u001b[0m\u001b[0;36m4\u001b[0m\u001b[0;34m)\u001b[0m\u001b[0;34m\u001b[0m\u001b[0;34m\u001b[0m\u001b[0m\n\u001b[0;32m----> 2\u001b[0;31m \u001b[0mx\u001b[0m\u001b[0;34m[\u001b[0m\u001b[0;36m0\u001b[0m\u001b[0;34m,\u001b[0m\u001b[0;36m0\u001b[0m\u001b[0;34m]\u001b[0m \u001b[0;34m=\u001b[0m \u001b[0mnp\u001b[0m\u001b[0;34m.\u001b[0m\u001b[0marray\u001b[0m\u001b[0;34m(\u001b[0m\u001b[0;34m[\u001b[0m\u001b[0;34m[\u001b[0m\u001b[0;36m7\u001b[0m\u001b[0;34m,\u001b[0m\u001b[0;36m7\u001b[0m\u001b[0;34m]\u001b[0m\u001b[0;34m,\u001b[0m \u001b[0;34m[\u001b[0m\u001b[0;36m7\u001b[0m\u001b[0;34m,\u001b[0m\u001b[0;36m7\u001b[0m\u001b[0;34m]\u001b[0m\u001b[0;34m]\u001b[0m\u001b[0;34m)\u001b[0m\u001b[0;34m\u001b[0m\u001b[0;34m\u001b[0m\u001b[0m\n\u001b[0m",
      "\u001b[0;31mValueError\u001b[0m: setting an array element with a sequence."
     ]
    }
   ],
   "source": [
    "x = np.arange(12).reshape(3,4)\n",
    "x[0,0] = np.array([[7,7], [7,7]])"
   ]
  },
  {
   "cell_type": "code",
   "execution_count": 80,
   "metadata": {},
   "outputs": [],
   "source": [
    "from itertools import combinations"
   ]
  },
  {
   "cell_type": "code",
   "execution_count": 118,
   "metadata": {},
   "outputs": [
    {
     "data": {
      "text/plain": [
       "(10, 12, 14)"
      ]
     },
     "execution_count": 118,
     "metadata": {},
     "output_type": "execute_result"
    }
   ],
   "source": [
    "offsets = (0, 10, 20)\n",
    "sizes = (10, 12, 14)\n",
    "x = np.arange(1000000).reshape(100, 100,100)\n",
    "x[tuple([slice(a, a + b) for a, b in zip(offsets, sizes)])]"
   ]
  },
  {
   "cell_type": "code",
   "execution_count": 119,
   "metadata": {},
   "outputs": [
    {
     "data": {
      "text/plain": [
       "array([0.000000e+00, 1.000000e+00, 2.000000e+00, ..., 9.999997e+06,\n",
       "       9.999998e+06, 9.999999e+06])"
      ]
     },
     "execution_count": 119,
     "metadata": {},
     "output_type": "execute_result"
    }
   ],
   "source": [
    "np.arange(1e7)"
   ]
  },
  {
   "cell_type": "code",
   "execution_count": 127,
   "metadata": {},
   "outputs": [
    {
     "data": {
      "text/plain": [
       "array([False, False, False, False, False, False, False, False, False,\n",
       "       False, False, False])"
      ]
     },
     "execution_count": 127,
     "metadata": {},
     "output_type": "execute_result"
    }
   ],
   "source": [
    "x = np.ma.arange(12)\n",
    "x.mask = [False] * 12\n",
    "x.mask"
   ]
  },
  {
   "cell_type": "code",
   "execution_count": null,
   "metadata": {},
   "outputs": [],
   "source": []
  }
 ],
 "metadata": {
  "kernelspec": {
   "display_name": "Python 3",
   "language": "python",
   "name": "python3"
  },
  "language_info": {
   "codemirror_mode": {
    "name": "ipython",
    "version": 3
   },
   "file_extension": ".py",
   "mimetype": "text/x-python",
   "name": "python",
   "nbconvert_exporter": "python",
   "pygments_lexer": "ipython3",
   "version": "3.8.3"
  }
 },
 "nbformat": 4,
 "nbformat_minor": 4
}

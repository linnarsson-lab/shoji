{
 "cells": [
  {
   "cell_type": "code",
   "execution_count": 1,
   "metadata": {},
   "outputs": [],
   "source": [
    "%config InlineBackend.figure_format = 'retina'\n",
    "%matplotlib inline\n",
    "from typing import List, Tuple\n",
    "import matplotlib.pyplot as plt\n",
    "import numpy as np\n",
    "import fdb\n",
    "import loompy\n",
    "import shoji\n",
    "from tqdm import trange\n",
    "import logging\n",
    "import sys\n",
    "#from rich.progress import track\n",
    "%load_ext line_profiler\n",
    "logging.basicConfig(stream=sys.stdout, format='%(asctime)s - %(levelname)s - %(message)s', level=20)"
   ]
  },
  {
   "cell_type": "code",
   "execution_count": 2,
   "metadata": {},
   "outputs": [
    {
     "data": {
      "text/html": [
       "<h4>(root) (shoji.Workspace)</h4><h5>Sub-workspaces</h5><table><tr><th></th><th>Contents</th></tr><tr><td align='left'><strong>eel</strong></td><td>2 workspaces, 0 dimensions, 0 tensors</td></tr><tr><td align='left'><strong>images</strong></td><td>0 workspaces, 1 dimensions, 1 tensors</td></tr><tr><td align='left'><strong>refdb</strong></td><td>2 workspaces, 0 dimensions, 0 tensors</td></tr><tr><td align='left'><strong>scRNA</strong></td><td>0 workspaces, 2 dimensions, 3 tensors</td></tr><tr><td align='left'><strong>test</strong></td><td>0 workspaces, 2 dimensions, 42 tensors</td></tr></table>"
      ],
      "text/plain": [
       "Workspace with 5 workspaces, 0 dimensions and 0 tensors:\n",
       "  eel <Workspace>\n",
       "  images <Workspace>\n",
       "  refdb <Workspace>\n",
       "  scRNA <Workspace>\n",
       "  test <Workspace>"
      ]
     },
     "execution_count": 2,
     "metadata": {},
     "output_type": "execute_result"
    }
   ],
   "source": [
    "db = shoji.connect()\n",
    "db"
   ]
  },
  {
   "cell_type": "code",
   "execution_count": 12,
   "metadata": {},
   "outputs": [
    {
     "name": "stderr",
     "output_type": "stream",
     "text": [
      "100%|██████████| 812/812 [19:01:25<00:00, 84.34s/it]      \n"
     ]
    }
   ],
   "source": [
    "db.refdb.human_development._from_loom(\"/Users/stelin/Dropbox (Linnarsson Group)/Temp/Allbrain.loom\")"
   ]
  },
  {
   "cell_type": "code",
   "execution_count": 13,
   "metadata": {},
   "outputs": [
    {
     "data": {
      "text/html": [
       "<h4>human_development (shoji.Workspace)</h4><h5>Dimensions</h5><table><tr><th></th><th>shape</th><th>length</th></tr><tr><td align='left'><strong>cells</strong></td><td>None</td><td>1,622,088</td></tr><tr><td align='left'><strong>genes</strong></td><td>33,538</td><td>33,538</td></tr></table><h5>Tensors</h5><table><tr><th></th><th>dtype</th><th>rank</th><th>dims</th><th>shape</th><th>(values)</th></tr><tr><td align='left'><strong>Accession</strong></td><td align='left'>string</td><td align='left'>1</td><td>genes</td><td>33,538</td><td>[\"ENSG00000091513\", \"ENSG00000164619\", \"ENSG00000170745\" ···</td></tr><tr><td align='left'><strong>Age</strong></td><td align='left'>string</td><td align='left'>1</td><td>cells</td><td>__</td><td>[\"9.2w\", \"8w\", \"8w\", \"14w\", \"14w\", ...]</td></tr><tr><td align='left'><strong>All_fc_analysis_id</strong></td><td align='left'>string</td><td align='left'>1</td><td>cells</td><td>__</td><td>[\"1640\", \"3119\", \"3120\", \"3620\", \"3620\", ...]</td></tr><tr><td align='left'><strong>Ambiguous</strong></td><td align='left'>uint16</td><td align='left'>2</td><td>cells ✕ genes</td><td>__ ✕ 33,538</td><td>[[0, 0, 0, 1, 0, ...], [0, 0, 0, 0, 0, ...], [0, 0, 0, 0 ···</td></tr><tr><td align='left'><strong>Analysis</strong></td><td align='left'>string</td><td align='left'>1</td><td>cells</td><td>__</td><td>[\"Ready (10X116_2_GRCh38-3_0_0)\", \"Queueing\", \"Queueing\" ···</td></tr><tr><td align='left'><strong>Bplength</strong></td><td align='left'>int64</td><td align='left'>1</td><td>cells</td><td>__</td><td>[470, 436, 456, 460, 460, ...]</td></tr><tr><td align='left'><strong>Cdnalibcomment</strong></td><td align='left'>string</td><td align='left'>1</td><td>cells</td><td>__</td><td>[\"\", \"\", \"\", \"\", \"\", ...]</td></tr><tr><td align='left'><strong>Cdnalibok</strong></td><td align='left'>string</td><td align='left'>1</td><td>cells</td><td>__</td><td>[\"Y\", \"Y\", \"Y\", \"N/A\", \"N/A\", ...]</td></tr><tr><td align='left'><strong>CellCycle</strong></td><td align='left'>float64</td><td align='left'>1</td><td>cells</td><td>__</td><td>[0.0007598784194528875, 0.0011614401858304297, 0.0011337 ···</td></tr><tr><td align='left'><strong>CellCycle_G1</strong></td><td align='left'>float64</td><td align='left'>1</td><td>cells</td><td>__</td><td>[0.00037993920972644377, 0.00038714672861014324, 0.00113 ···</td></tr><tr><td align='left'><strong>CellCycle_G2M</strong></td><td align='left'>float64</td><td align='left'>1</td><td>cells</td><td>__</td><td>[0.00037993920972644377, 0.0007742934572202865, 0.0, 0.0 ···</td></tr><tr><td align='left'><strong>CellCycle_S</strong></td><td align='left'>float64</td><td align='left'>1</td><td>cells</td><td>__</td><td>[0.0, 0.0, 0.0, 0.0, 0.0, ...]</td></tr><tr><td align='left'><strong>CellID</strong></td><td align='left'>string</td><td align='left'>1</td><td>cells</td><td>__</td><td>[\"10X116_2_GRCh38-3_0_0:CCCATACCATGTTCCCx\", \"10X157_1_AB ···</td></tr><tr><td align='left'><strong>Cellconc</strong></td><td align='left'>string</td><td align='left'>1</td><td>cells</td><td>__</td><td>[\"1600\", \"910\", \"1190\", \"1000\", \"1000\", ...]</td></tr><tr><td align='left'><strong>Chemistry</strong></td><td align='left'>string</td><td align='left'>1</td><td>cells</td><td>__</td><td>[\"v2\", \"v2\", \"v2\", \"v3\", \"v3\", ...]</td></tr><tr><td align='left'><strong>Chromosome</strong></td><td align='left'>string</td><td align='left'>1</td><td>genes</td><td>33,538</td><td>[\"3\", \"7\", \"2\", \"10\", \"16\", ...]</td></tr><tr><td align='left'><strong>Clusterdensity</strong></td><td align='left'>int64</td><td align='left'>1</td><td>cells</td><td>__</td><td>[0, 0, 0, 0, 0, ...]</td></tr><tr><td align='left'><strong>Clusterpf</strong></td><td align='left'>int64</td><td align='left'>1</td><td>cells</td><td>__</td><td>[0, 0, 0, 0, 0, ...]</td></tr><tr><td align='left'><strong>Clusters</strong></td><td align='left'>int64</td><td align='left'>1</td><td>cells</td><td>__</td><td>[0, 0, 0, 0, 0, ...]</td></tr><tr><td align='left'><strong>ClustersModularity</strong></td><td align='left'>int64</td><td align='left'>1</td><td>cells</td><td>__</td><td>[279, 279, 279, 279, 279, ...]</td></tr><tr><td align='left'><strong>ClustersSurprise</strong></td><td align='left'>int64</td><td align='left'>1</td><td>cells</td><td>__</td><td>[3020, 3020, 7307, 3020, 3020, ...]</td></tr><tr><td align='left'><strong>Comment</strong></td><td align='left'>string</td><td align='left'>1</td><td>cells</td><td>__</td><td>[\"\", \"sample processed the day after we got from Hudding ···</td></tr><tr><td align='left'><strong>Config</strong></td><td align='left'>string</td><td align='left'>0</td><td>()</td><td>()</td><td>\"paths:\n",
       "  build: /proj/human_development/wholebrain_2007 ...</td></tr><tr><td align='left'><strong>CreationDate</strong></td><td align='left'>string</td><td align='left'>1</td><td>cells</td><td>__</td><td>[\"20190127T083258.978091Z\", \"20190920T234227.807952Z\", \" ···</td></tr><tr><td align='left'><strong>CreationDate_gobal</strong></td><td align='left'>string</td><td align='left'>0</td><td>()</td><td>()</td><td>\"20200707T221325.022920Z\"</td></tr><tr><td align='left'><strong>Datecaptured</strong></td><td align='left'>string</td><td align='left'>1</td><td>cells</td><td>__</td><td>[\"2018-06-14\", \"2019-01-18\", \"2019-01-18\", \"2020-03-03\", ···</td></tr><tr><td align='left'><strong>Dateseqlib</strong></td><td align='left'>string</td><td align='left'>1</td><td>cells</td><td>__</td><td>[\"\", \"\", \"\", \"\", \"\", ...]</td></tr><tr><td align='left'><strong>Donor</strong></td><td align='left'>string</td><td align='left'>1</td><td>cells</td><td>__</td><td>[\"XHU:1966:307\", \"XDD:1003:334\", \"XDD:1003:334\", \"XDD:38 ···</td></tr><tr><td align='left'><strong>DoubletFinderFlag</strong></td><td align='left'>int64</td><td align='left'>1</td><td>cells</td><td>__</td><td>[0, 0, 0, 0, 0, ...]</td></tr><tr><td align='left'><strong>DoubletFinderScore</strong></td><td align='left'>float64</td><td align='left'>1</td><td>cells</td><td>__</td><td>[0.06, 0.15151515151515152, 0.03, 0.0, 0.0, ...]</td></tr><tr><td align='left'><strong>Editat</strong></td><td align='left'>string</td><td align='left'>1</td><td>cells</td><td>__</td><td>[\"2019-07-08 14:35:34\", \"2019-05-31 16:49:54\", \"2019-05- ···</td></tr><tr><td align='left'><strong>Editby</strong></td><td align='left'>string</td><td align='left'>1</td><td>cells</td><td>__</td><td>[\"emelie\", \"emelie\", \"emelie\", \"emelie\", \"emelie\", ...]</td></tr><tr><td align='left'><strong>End</strong></td><td align='left'>int64</td><td align='left'>1</td><td>genes</td><td>33,538</td><td>[133796640, 34155872, 18361616, 62672011, 74774831, ...]</td></tr><tr><td align='left'><strong>Expression</strong></td><td align='left'>float32</td><td align='left'>2</td><td>cells ✕ genes</td><td>__ ✕ 33,538</td><td>[[3.0, 1.0, 0.0, 4.0, 0.0, ...], [1.0, 6.0, 0.0, 0.0, 0. ···</td></tr><tr><td align='left'><strong>Finalconc</strong></td><td align='left'>string</td><td align='left'>1</td><td>cells</td><td>__</td><td>[\"122.07\", \"126.49\", \"153.6\", \"106.52\", \"106.52\", ...]</td></tr><tr><td align='left'><strong>Gene</strong></td><td align='left'>string</td><td align='left'>1</td><td>genes</td><td>33,538</td><td>[\"TF\", \"BMPER\", \"KCNS3\", \"ZNF365\", \"FA2H\", ...]</td></tr><tr><td align='left'><strong>Id</strong></td><td align='left'>int64</td><td align='left'>1</td><td>cells</td><td>__</td><td>[502, 722, 723, 1257, 1257, ...]</td></tr><tr><td align='left'><strong>Idxset</strong></td><td align='left'>string</td><td align='left'>1</td><td>cells</td><td>__</td><td>[\"SI-GA-B12\", \"SI-GA-B3\", \"SI-GA-C3\", \"SI-GA-F2\", \"SI-GA ···</td></tr><tr><td align='left'><strong>Inputmrna</strong></td><td align='left'>float64</td><td align='left'>1</td><td>cells</td><td>__</td><td>[0.0, 0.0, 0.0, 0.0, 0.0, ...]</td></tr><tr><td align='left'><strong>IsCycling</strong></td><td align='left'>uint8</td><td align='left'>1</td><td>cells</td><td>__</td><td>[0, 0, 0, 0, 0, ...]</td></tr><tr><td align='left'><strong>LOOM_SPEC_VERSION</strong></td><td align='left'>string</td><td align='left'>0</td><td>()</td><td>()</td><td>\"3.0.0\"</td></tr><tr><td align='left'><strong>Label</strong></td><td align='left'>string</td><td align='left'>1</td><td>cells</td><td>__</td><td>[\"\", \"\", \"\", \"\", \"\", ...]</td></tr><tr><td align='left'><strong>MT_ratio</strong></td><td align='left'>float64</td><td align='left'>1</td><td>cells</td><td>__</td><td>[0.03571428571428571, 0.020905923344947737, 0.0226757369 ···</td></tr><tr><td align='left'><strong>MeanTotalUMI</strong></td><td align='left'>float64</td><td align='left'>1</td><td>cells</td><td>__</td><td>[2.5551582759034344, 0.4600110191820179, 0.4400545506071 ···</td></tr><tr><td align='left'><strong>Method</strong></td><td align='left'>string</td><td align='left'>1</td><td>cells</td><td>__</td><td>[\"rna-seq\", \"rna-seq\", \"rna-seq\", \"rna-seq\", \"rna-seq\", ...]</td></tr><tr><td align='left'><strong>Molarity</strong></td><td align='left'>string</td><td align='left'>1</td><td>cells</td><td>__</td><td>[\"1.21\", \"2.17\", \"2.24\", \"2.81\", \"2.81\", ...]</td></tr><tr><td align='left'><strong>MultilevelMarkers</strong></td><td align='left'>float64</td><td align='left'>2</td><td>genes ✕ 4</td><td>33,538 ✕ 4</td><td>[[0.0, 0.0, 0.0, 0.0], [0.0, 0.0, 0.0, 0.0], [0.0, 0.0,  ···</td></tr><tr><td align='left'><strong>NGenes</strong></td><td align='left'>float64</td><td align='left'>1</td><td>cells</td><td>__</td><td>[1426.0, 2496.0, 1550.0, 1015.0, 724.0, ...]</td></tr><tr><td align='left'><strong>Name</strong></td><td align='left'>string</td><td align='left'>1</td><td>cells</td><td>__</td><td>[\"10X116_2\", \"10X157_1\", \"10X157_2\", \"10X251_6\", \"10X251 ···</td></tr><tr><td align='left'><strong>Neuronprop</strong></td><td align='left'>string</td><td align='left'>1</td><td>cells</td><td>__</td><td>[\"N/A\", \"N/A\", \"N/A\", \"N/A\", \"N/A\", ...]</td></tr><tr><td align='left'><strong>Ngperulcdna</strong></td><td align='left'>string</td><td align='left'>1</td><td>cells</td><td>__</td><td>[\"0.85\", \"4.1\", \"5.18\", \"3.3\", \"3.3\", ...]</td></tr><tr><td align='left'><strong>Numpooledanimals</strong></td><td align='left'>string</td><td align='left'>1</td><td>cells</td><td>__</td><td>[\"\", \"\", \"\", \"\", \"\", ...]</td></tr><tr><td align='left'><strong>Outliers</strong></td><td align='left'>int64</td><td align='left'>1</td><td>cells</td><td>__</td><td>[0, 0, 0, 0, 0, ...]</td></tr><tr><td align='left'><strong>OutliersModularity</strong></td><td align='left'>int64</td><td align='left'>1</td><td>cells</td><td>__</td><td>[0, 0, 0, 0, 0, ...]</td></tr><tr><td align='left'><strong>OutliersSurprise</strong></td><td align='left'>int64</td><td align='left'>1</td><td>cells</td><td>__</td><td>[0, 0, 0, 0, 0, ...]</td></tr><tr><td align='left'><strong>PCA</strong></td><td align='left'>float32</td><td align='left'>2</td><td>cells ✕ 50</td><td>__ ✕ 50</td><td>[[7.370703, 20.921576, -3.179274, -6.470305, 12.819971,  ···</td></tr><tr><td align='left'><strong>PassedQC</strong></td><td align='left'>uint8</td><td align='left'>1</td><td>cells</td><td>__</td><td>[1, 1, 1, 1, 1, ...]</td></tr><tr><td align='left'><strong>PassedQC_MT_ratio</strong></td><td align='left'>uint8</td><td align='left'>1</td><td>cells</td><td>__</td><td>[0, 0, 0, 0, 1, ...]</td></tr><tr><td align='left'><strong>PassedQC_TotalUMI</strong></td><td align='left'>uint8</td><td align='left'>1</td><td>cells</td><td>__</td><td>[0, 0, 0, 0, 0, ...]</td></tr><tr><td align='left'><strong>PassedQC_UMIPerGene</strong></td><td align='left'>uint8</td><td align='left'>1</td><td>cells</td><td>__</td><td>[0, 0, 0, 0, 0, ...]</td></tr><tr><td align='left'><strong>PassedQC_UnsplicedRatio</strong></td><td align='left'>uint8</td><td align='left'>1</td><td>cells</td><td>__</td><td>[0, 0, 0, 1, 1, ...]</td></tr><tr><td align='left'><strong>Pcrcycles</strong></td><td align='left'>string</td><td align='left'>1</td><td>cells</td><td>__</td><td>[\"12\", \"12\", \"12\", \"12\", \"12\", ...]</td></tr><tr><td align='left'><strong>Plugdate</strong></td><td align='left'>string</td><td align='left'>1</td><td>cells</td><td>__</td><td>[\"\", \"\", \"\", \"\", \"\", ...]</td></tr><tr><td align='left'><strong>Pooled</strong></td><td align='left'>int32</td><td align='left'>2</td><td>cells ✕ genes</td><td>__ ✕ 33,538</td><td>[[89, 251, 39, 122, 21, ...], [14, 112, 48, 33, 26, ...] ···</td></tr><tr><td align='left'><strong>Project</strong></td><td align='left'>string</td><td align='left'>1</td><td>cells</td><td>__</td><td>[\"Dev human\", \"Dev human\", \"Dev human\", \"Dev human\", \"De ···</td></tr><tr><td align='left'><strong>Radius</strong></td><td align='left'>float64</td><td align='left'>0</td><td>()</td><td>()</td><td>0.13148695786090378</td></tr><tr><td align='left'><strong>Read1specificseq</strong></td><td align='left'>string</td><td align='left'>1</td><td>cells</td><td>__</td><td>[\"\", \"\", \"\", \"\", \"\", ...]</td></tr><tr><td align='left'><strong>Roi</strong></td><td align='left'>string</td><td align='left'>1</td><td>cells</td><td>__</td><td>[\"\", \"\", \"\", \"\", \"\", ...]</td></tr><tr><td align='left'><strong>SampleID</strong></td><td align='left'>string</td><td align='left'>1</td><td>cells</td><td>__</td><td>[\"10X116_2\", \"10X157_1\", \"10X157_2\", \"10X251_6\", \"10X251 ···</td></tr><tr><td align='left'><strong>Sampleok</strong></td><td align='left'>string</td><td align='left'>1</td><td>cells</td><td>__</td><td>[\"Y\", \"Y\", \"Y\", \"N/A\", \"N/A\", ...]</td></tr><tr><td align='left'><strong>Selected</strong></td><td align='left'>int64</td><td align='left'>1</td><td>genes</td><td>33,538</td><td>[1, 1, 1, 1, 1, ...]</td></tr><tr><td align='left'><strong>Seqcomment</strong></td><td align='left'>string</td><td align='left'>1</td><td>cells</td><td>__</td><td>[\"\", \"\", \"\", \"\", \"\", ...]</td></tr><tr><td align='left'><strong>Seqlibcomment</strong></td><td align='left'>string</td><td align='left'>1</td><td>cells</td><td>__</td><td>[\"\", \"\", \"\", \"\", \"\", ...]</td></tr><tr><td align='left'><strong>Seqlibok</strong></td><td align='left'>string</td><td align='left'>1</td><td>cells</td><td>__</td><td>[\"Y\", \"Y\", \"Y\", \"N/A\", \"N/A\", ...]</td></tr><tr><td align='left'><strong>Sex</strong></td><td align='left'>string</td><td align='left'>1</td><td>cells</td><td>__</td><td>[\"\", \"\", \"\", \"\", \"\", ...]</td></tr><tr><td align='left'><strong>Shearing</strong></td><td align='left'>string</td><td align='left'>1</td><td>cells</td><td>__</td><td>[\"\", \"\", \"\", \"\", \"\", ...]</td></tr><tr><td align='left'><strong>Shortname</strong></td><td align='left'>string</td><td align='left'>1</td><td>cells</td><td>__</td><td>[\"XHU:1966:307_Medulla\", \"XDD:1003:334_Medulla\", \"XDD:10 ···</td></tr><tr><td align='left'><strong>Species</strong></td><td align='left'>string</td><td align='left'>1</td><td>cells</td><td>__</td><td>[\"Hs\", \"Hs\", \"Hs\", \"Hs\", \"Hs\", ...]</td></tr><tr><td align='left'><strong>Spliced</strong></td><td align='left'>uint16</td><td align='left'>2</td><td>cells ✕ genes</td><td>__ ✕ 33,538</td><td>[[3, 0, 0, 0, 0, ...], [1, 0, 0, 0, 0, ...], [1, 0, 0, 0 ···</td></tr><tr><td align='left'><strong>Start</strong></td><td align='left'>int64</td><td align='left'>1</td><td>genes</td><td>33,538</td><td>[133745956, 33904911, 17877847, 62374192, 74712955, ...]</td></tr><tr><td align='left'><strong>Strain</strong></td><td align='left'>string</td><td align='left'>1</td><td>cells</td><td>__</td><td>[\"\", \"\", \"\", \"\", \"\", ...]</td></tr><tr><td align='left'><strong>Strand</strong></td><td align='left'>string</td><td align='left'>1</td><td>genes</td><td>33,538</td><td>[\"+\", \"+\", \"+\", \"+\", \"-\", ...]</td></tr><tr><td align='left'><strong>TSNE</strong></td><td align='left'>float64</td><td align='left'>2</td><td>cells ✕ 2</td><td>__ ✕ 2</td><td>[[-4.861157987362572, 8.5356869155266], [-4.786342746287 ···</td></tr><tr><td align='left'><strong>Targetnumcells</strong></td><td align='left'>string</td><td align='left'>1</td><td>cells</td><td>__</td><td>[\"4000\", \"5000\", \"5000\", \"5000\", \"5000\", ...]</td></tr><tr><td align='left'><strong>Tissue</strong></td><td align='left'>string</td><td align='left'>1</td><td>cells</td><td>__</td><td>[\"Medulla\", \"Medulla\", \"Pons\", \"Spinal cord thoracic\", \" ···</td></tr><tr><td align='left'><strong>TotalRNA</strong></td><td align='left'>float64</td><td align='left'>1</td><td>cells</td><td>__</td><td>[0.0, 0.0, 0.0, 0.0, 0.0, ...]</td></tr><tr><td align='left'><strong>TotalUMI</strong></td><td align='left'>float64</td><td align='left'>1</td><td>cells</td><td>__</td><td>[2632.0, 5166.0, 2646.0, 1450.0, 1033.0, ...]</td></tr><tr><td align='left'><strong>Totcells</strong></td><td align='left'>string</td><td align='left'>1</td><td>cells</td><td>__</td><td>[\"1037\", \"9127\", \"9799\", \"None\", \"None\", ...]</td></tr><tr><td align='left'><strong>Totreads</strong></td><td align='left'>string</td><td align='left'>1</td><td>cells</td><td>__</td><td>[\"666958252\", \"14876589\", \"13417411\", \"None\", \"None\", ...]</td></tr><tr><td align='left'><strong>Transcriptome</strong></td><td align='left'>string</td><td align='left'>1</td><td>cells</td><td>__</td><td>[\"hg38\", \"hg38\", \"hg38\", \"hg38\", \"hg38\", ...]</td></tr><tr><td align='left'><strong>UMAP</strong></td><td align='left'>float32</td><td align='left'>2</td><td>cells ✕ 2</td><td>__ ✕ 2</td><td>[[7.0243, 5.356931], [7.0801387, 5.343854], [7.0679245,  ···</td></tr><tr><td align='left'><strong>UMAP3D</strong></td><td align='left'>float32</td><td align='left'>2</td><td>cells ✕ 3</td><td>__ ✕ 3</td><td>[[5.148007, -3.548621, 1.5843673], [5.230472, -3.4943004 ···</td></tr><tr><td align='left'><strong>Unspliced</strong></td><td align='left'>uint16</td><td align='left'>2</td><td>cells ✕ genes</td><td>__ ✕ 33,538</td><td>[[0, 1, 0, 3, 0, ...], [0, 6, 0, 0, 0, ...], [0, 0, 0, 0 ···</td></tr><tr><td align='left'><strong>Unspliced_ratio</strong></td><td align='left'>float64</td><td align='left'>1</td><td>cells</td><td>__</td><td>[0.33282674772036475, 0.24912891986062718, 0.19614512471 ···</td></tr><tr><td align='left'><strong>Valid</strong></td><td align='left'>int64</td><td align='left'>1</td><td>genes</td><td>33,538</td><td>[1, 1, 1, 1, 1, ...]</td></tr><tr><td align='left'><strong>Velocyto.__version__</strong></td><td align='left'>string</td><td align='left'>1</td><td>cells</td><td>__</td><td>[\"0.17.11\", \"0.17.11\", \"0.17.11\", \"0.17.17\", \"0.17.17\", ...]</td></tr><tr><td align='left'><strong>Velocyto.logic</strong></td><td align='left'>string</td><td align='left'>1</td><td>cells</td><td>__</td><td>[\"Default\", \"Default\", \"Default\", \"Default\", \"Default\", ...]</td></tr></table>"
      ],
      "text/plain": [
       "Workspace with 0 workspaces, 2 dimensions and 97 tensors:\n",
       "  cells <Dimension of variable shape>\n",
       "  genes <Dimension of shape 33538>\n",
       "  Accession <Tensor Accession dtype='string' dims=('genes',), shape=(33538,)>\n",
       "  Age <Tensor Age dtype='string' dims=('cells',), shape=(1622088,)>\n",
       "  All_fc_analysis_id <Tensor All_fc_analysis_id dtype='string' dims=('cells',), shape=(1622088,)>\n",
       "  Ambiguous <Tensor Ambiguous dtype='uint16' dims=('cells', 'genes'), shape=(1622088, 33538)>\n",
       "  Analysis <Tensor Analysis dtype='string' dims=('cells',), shape=(1622088,)>\n",
       "  Bplength <Tensor Bplength dtype='int64' dims=('cells',), shape=(1622088,)>\n",
       "  Cdnalibcomment <Tensor Cdnalibcomment dtype='string' dims=('cells',), shape=(1622088,)>\n",
       "  Cdnalibok <Tensor Cdnalibok dtype='string' dims=('cells',), shape=(1622088,)>\n",
       "  CellCycle <Tensor CellCycle dtype='float64' dims=('cells',), shape=(1622088,)>\n",
       "  CellCycle_G1 <Tensor CellCycle_G1 dtype='float64' dims=('cells',), shape=(1622088,)>\n",
       "  CellCycle_G2M <Tensor CellCycle_G2M dtype='float64' dims=('cells',), shape=(1622088,)>\n",
       "  CellCycle_S <Tensor CellCycle_S dtype='float64' dims=('cells',), shape=(1622088,)>\n",
       "  CellID <Tensor CellID dtype='string' dims=('cells',), shape=(1622088,)>\n",
       "  Cellconc <Tensor Cellconc dtype='string' dims=('cells',), shape=(1622088,)>\n",
       "  Chemistry <Tensor Chemistry dtype='string' dims=('cells',), shape=(1622088,)>\n",
       "  Chromosome <Tensor Chromosome dtype='string' dims=('genes',), shape=(33538,)>\n",
       "  Clusterdensity <Tensor Clusterdensity dtype='int64' dims=('cells',), shape=(1622088,)>\n",
       "  Clusterpf <Tensor Clusterpf dtype='int64' dims=('cells',), shape=(1622088,)>\n",
       "  Clusters <Tensor Clusters dtype='int64' dims=('cells',), shape=(1622088,)>\n",
       "  ClustersModularity <Tensor ClustersModularity dtype='int64' dims=('cells',), shape=(1622088,)>\n",
       "  ClustersSurprise <Tensor ClustersSurprise dtype='int64' dims=('cells',), shape=(1622088,)>\n",
       "  Comment <Tensor Comment dtype='string' dims=('cells',), shape=(1622088,)>\n",
       "  Config <Tensor Config dtype='string' dims=(), shape=()>\n",
       "  CreationDate <Tensor CreationDate dtype='string' dims=('cells',), shape=(1622088,)>\n",
       "  CreationDate_gobal <Tensor CreationDate_gobal dtype='string' dims=(), shape=()>\n",
       "  Datecaptured <Tensor Datecaptured dtype='string' dims=('cells',), shape=(1622088,)>\n",
       "  Dateseqlib <Tensor Dateseqlib dtype='string' dims=('cells',), shape=(1622088,)>\n",
       "  Donor <Tensor Donor dtype='string' dims=('cells',), shape=(1622088,)>\n",
       "  DoubletFinderFlag <Tensor DoubletFinderFlag dtype='int64' dims=('cells',), shape=(1622088,)>\n",
       "  DoubletFinderScore <Tensor DoubletFinderScore dtype='float64' dims=('cells',), shape=(1622088,)>\n",
       "  Editat <Tensor Editat dtype='string' dims=('cells',), shape=(1622088,)>\n",
       "  Editby <Tensor Editby dtype='string' dims=('cells',), shape=(1622088,)>\n",
       "  End <Tensor End dtype='int64' dims=('genes',), shape=(33538,)>\n",
       "  Expression <Tensor Expression dtype='float32' dims=('cells', 'genes'), shape=(1622088, 33538)>\n",
       "  Finalconc <Tensor Finalconc dtype='string' dims=('cells',), shape=(1622088,)>\n",
       "  Gene <Tensor Gene dtype='string' dims=('genes',), shape=(33538,)>\n",
       "  Id <Tensor Id dtype='int64' dims=('cells',), shape=(1622088,)>\n",
       "  Idxset <Tensor Idxset dtype='string' dims=('cells',), shape=(1622088,)>\n",
       "  Inputmrna <Tensor Inputmrna dtype='float64' dims=('cells',), shape=(1622088,)>\n",
       "  IsCycling <Tensor IsCycling dtype='uint8' dims=('cells',), shape=(1622088,)>\n",
       "  LOOM_SPEC_VERSION <Tensor LOOM_SPEC_VERSION dtype='string' dims=(), shape=()>\n",
       "  Label <Tensor Label dtype='string' dims=('cells',), shape=(1622088,)>\n",
       "  MT_ratio <Tensor MT_ratio dtype='float64' dims=('cells',), shape=(1622088,)>\n",
       "  MeanTotalUMI <Tensor MeanTotalUMI dtype='float64' dims=('cells',), shape=(1622088,)>\n",
       "  Method <Tensor Method dtype='string' dims=('cells',), shape=(1622088,)>\n",
       "  Molarity <Tensor Molarity dtype='string' dims=('cells',), shape=(1622088,)>\n",
       "  MultilevelMarkers <Tensor MultilevelMarkers dtype='float64' dims=('genes', 4), shape=(33538, 4)>\n",
       "  NGenes <Tensor NGenes dtype='float64' dims=('cells',), shape=(1622088,)>\n",
       "  Name <Tensor Name dtype='string' dims=('cells',), shape=(1622088,)>\n",
       "  Neuronprop <Tensor Neuronprop dtype='string' dims=('cells',), shape=(1622088,)>\n",
       "  Ngperulcdna <Tensor Ngperulcdna dtype='string' dims=('cells',), shape=(1622088,)>\n",
       "  Numpooledanimals <Tensor Numpooledanimals dtype='string' dims=('cells',), shape=(1622088,)>\n",
       "  Outliers <Tensor Outliers dtype='int64' dims=('cells',), shape=(1622088,)>\n",
       "  OutliersModularity <Tensor OutliersModularity dtype='int64' dims=('cells',), shape=(1622088,)>\n",
       "  OutliersSurprise <Tensor OutliersSurprise dtype='int64' dims=('cells',), shape=(1622088,)>\n",
       "  PCA <Tensor PCA dtype='float32' dims=('cells', 50), shape=(1622088, 50)>\n",
       "  PassedQC <Tensor PassedQC dtype='uint8' dims=('cells',), shape=(1622088,)>\n",
       "  PassedQC_MT_ratio <Tensor PassedQC_MT_ratio dtype='uint8' dims=('cells',), shape=(1622088,)>\n",
       "  PassedQC_TotalUMI <Tensor PassedQC_TotalUMI dtype='uint8' dims=('cells',), shape=(1622088,)>\n",
       "  PassedQC_UMIPerGene <Tensor PassedQC_UMIPerGene dtype='uint8' dims=('cells',), shape=(1622088,)>\n",
       "  PassedQC_UnsplicedRatio <Tensor PassedQC_UnsplicedRatio dtype='uint8' dims=('cells',), shape=(1622088,)>\n",
       "  Pcrcycles <Tensor Pcrcycles dtype='string' dims=('cells',), shape=(1622088,)>\n",
       "  Plugdate <Tensor Plugdate dtype='string' dims=('cells',), shape=(1622088,)>\n",
       "  Pooled <Tensor Pooled dtype='int32' dims=('cells', 'genes'), shape=(1622088, 33538)>\n",
       "  Project <Tensor Project dtype='string' dims=('cells',), shape=(1622088,)>\n",
       "  Radius <Tensor Radius dtype='float64' dims=(), shape=()>\n",
       "  Read1specificseq <Tensor Read1specificseq dtype='string' dims=('cells',), shape=(1622088,)>\n",
       "  Roi <Tensor Roi dtype='string' dims=('cells',), shape=(1622088,)>\n",
       "  SampleID <Tensor SampleID dtype='string' dims=('cells',), shape=(1622088,)>\n",
       "  Sampleok <Tensor Sampleok dtype='string' dims=('cells',), shape=(1622088,)>\n",
       "  Selected <Tensor Selected dtype='int64' dims=('genes',), shape=(33538,)>\n",
       "  Seqcomment <Tensor Seqcomment dtype='string' dims=('cells',), shape=(1622088,)>\n",
       "  Seqlibcomment <Tensor Seqlibcomment dtype='string' dims=('cells',), shape=(1622088,)>\n",
       "  Seqlibok <Tensor Seqlibok dtype='string' dims=('cells',), shape=(1622088,)>\n",
       "  Sex <Tensor Sex dtype='string' dims=('cells',), shape=(1622088,)>\n",
       "  Shearing <Tensor Shearing dtype='string' dims=('cells',), shape=(1622088,)>\n",
       "  Shortname <Tensor Shortname dtype='string' dims=('cells',), shape=(1622088,)>\n",
       "  Species <Tensor Species dtype='string' dims=('cells',), shape=(1622088,)>\n",
       "  Spliced <Tensor Spliced dtype='uint16' dims=('cells', 'genes'), shape=(1622088, 33538)>\n",
       "  Start <Tensor Start dtype='int64' dims=('genes',), shape=(33538,)>\n",
       "  Strain <Tensor Strain dtype='string' dims=('cells',), shape=(1622088,)>\n",
       "  Strand <Tensor Strand dtype='string' dims=('genes',), shape=(33538,)>\n",
       "  TSNE <Tensor TSNE dtype='float64' dims=('cells', 2), shape=(1622088, 2)>\n",
       "  Targetnumcells <Tensor Targetnumcells dtype='string' dims=('cells',), shape=(1622088,)>\n",
       "  Tissue <Tensor Tissue dtype='string' dims=('cells',), shape=(1622088,)>\n",
       "  TotalRNA <Tensor TotalRNA dtype='float64' dims=('cells',), shape=(1622088,)>\n",
       "  TotalUMI <Tensor TotalUMI dtype='float64' dims=('cells',), shape=(1622088,)>\n",
       "  Totcells <Tensor Totcells dtype='string' dims=('cells',), shape=(1622088,)>\n",
       "  Totreads <Tensor Totreads dtype='string' dims=('cells',), shape=(1622088,)>\n",
       "  Transcriptome <Tensor Transcriptome dtype='string' dims=('cells',), shape=(1622088,)>\n",
       "  UMAP <Tensor UMAP dtype='float32' dims=('cells', 2), shape=(1622088, 2)>\n",
       "  UMAP3D <Tensor UMAP3D dtype='float32' dims=('cells', 3), shape=(1622088, 3)>\n",
       "  Unspliced <Tensor Unspliced dtype='uint16' dims=('cells', 'genes'), shape=(1622088, 33538)>\n",
       "  Unspliced_ratio <Tensor Unspliced_ratio dtype='float64' dims=('cells',), shape=(1622088,)>\n",
       "  Valid <Tensor Valid dtype='int64' dims=('genes',), shape=(33538,)>\n",
       "  Velocyto.__version__ <Tensor Velocyto.__version__ dtype='string' dims=('cells',), shape=(1622088,)>\n",
       "  Velocyto.logic <Tensor Velocyto.logic dtype='string' dims=('cells',), shape=(1622088,)>"
      ]
     },
     "execution_count": 13,
     "metadata": {},
     "output_type": "execute_result"
    }
   ],
   "source": [
    "ws = db.refdb.human_development\n",
    "ws"
   ]
  },
  {
   "cell_type": "code",
   "execution_count": null,
   "metadata": {},
   "outputs": [],
   "source": [
    "gp = ws.cells.groupby(\"Clusters\")\n",
    "gp.Tissue(\"mode\")\n",
    "gp.TotalUMI(\"median\")"
   ]
  }
 ],
 "metadata": {
  "kernelspec": {
   "display_name": "Python 3",
   "language": "python",
   "name": "python3"
  },
  "language_info": {
   "codemirror_mode": {
    "name": "ipython",
    "version": 3
   },
   "file_extension": ".py",
   "mimetype": "text/x-python",
   "name": "python",
   "nbconvert_exporter": "python",
   "pygments_lexer": "ipython3",
   "version": "3.8.3"
  }
 },
 "nbformat": 4,
 "nbformat_minor": 4
}

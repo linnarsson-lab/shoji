{
 "cells": [
  {
   "cell_type": "code",
   "execution_count": 1,
   "metadata": {},
   "outputs": [],
   "source": [
    "%config InlineBackend.figure_format = 'retina'\n",
    "%matplotlib inline\n",
    "import matplotlib.pyplot as plt\n",
    "import numpy as np\n",
    "import fdb\n",
    "import loompy\n",
    "import shoji\n",
    "from tqdm import trange\n",
    "%load_ext line_profiler"
   ]
  },
  {
   "cell_type": "code",
   "execution_count": 2,
   "metadata": {},
   "outputs": [],
   "source": [
    "db = shoji.connect()"
   ]
  },
  {
   "cell_type": "code",
   "execution_count": 4,
   "metadata": {},
   "outputs": [],
   "source": [
    "if \"scRNA\" in db:\n",
    "    del db.scRNA"
   ]
  },
  {
   "cell_type": "code",
   "execution_count": 5,
   "metadata": {},
   "outputs": [],
   "source": [
    "db.scRNA = shoji.Workspace()\n",
    "db.scRNA.cells = shoji.Dimension(shape=None)\n",
    "db.scRNA.genes = shoji.Dimension(shape=5000)\n",
    "db.scRNA.Spliced = shoji.Tensor(\"int16\", (\"cells\", \"genes\"), np.random.randint(0, 10, size=(1000, 5000), dtype=\"int16\"))\n",
    "db.scRNA.Age = shoji.Tensor(\"uint16\", (\"cells\",), np.random.randint(0, 50, size=1000, dtype=\"uint16\"))\n",
    "db.scRNA.Length = shoji.Tensor(\"uint16\", (\"genes\",), np.random.randint(0, 50, size=5000, dtype=\"uint16\"))\n",
    "db.scRNA.Chromosome = shoji.Tensor(\"string\", (\"genes\",), np.full(5000, \"x\", dtype=\"object\"))"
   ]
  },
  {
   "cell_type": "code",
   "execution_count": 6,
   "metadata": {},
   "outputs": [
    {
     "name": "stdout",
     "output_type": "stream",
     "text": [
      "CPU times: user 540 ms, sys: 62.4 ms, total: 602 ms\n",
      "Wall time: 973 ms\n"
     ]
    }
   ],
   "source": [
    "%%time\n",
    "db.scRNA.cells.append({\n",
    "    \"Spliced\": np.random.randint(0, 10, size=(2000, 5000), dtype=\"int16\"),\n",
    "    \"Age\": np.random.randint(0, 50, size=2000, dtype=\"uint16\")\n",
    "})"
   ]
  },
  {
   "cell_type": "code",
   "execution_count": 7,
   "metadata": {},
   "outputs": [
    {
     "name": "stdout",
     "output_type": "stream",
     "text": [
      "CPU times: user 315 ms, sys: 41 ms, total: 356 ms\n",
      "Wall time: 667 ms\n"
     ]
    },
    {
     "data": {
      "text/plain": [
       "(3000, 5000)"
      ]
     },
     "execution_count": 7,
     "metadata": {},
     "output_type": "execute_result"
    }
   ],
   "source": [
    "%%time\n",
    "db.scRNA[:].Spliced.shape"
   ]
  },
  {
   "cell_type": "code",
   "execution_count": 8,
   "metadata": {},
   "outputs": [
    {
     "data": {
      "text/plain": [
       "(200,)"
      ]
     },
     "execution_count": 8,
     "metadata": {},
     "output_type": "execute_result"
    }
   ],
   "source": [
    "v = db.scRNA[db.scRNA.cells[:1000] - (db.scRNA.Age > 10), db.scRNA.Length > 40]\n",
    "v.Spliced.shape\n",
    "v.Age.shape"
   ]
  },
  {
   "cell_type": "code",
   "execution_count": 18,
   "metadata": {},
   "outputs": [],
   "source": [
    "rna = db.scRNA\n",
    "rna[rna.cells[20:0:-2]].Age = np.arange(10, dtype=\"uint16\")"
   ]
  },
  {
   "cell_type": "code",
   "execution_count": 19,
   "metadata": {},
   "outputs": [
    {
     "data": {
      "text/plain": [
       "array([ 0,  1,  0,  3,  1,  5,  2,  7,  3,  9,  4, 17,  5, 13,  6, 31,  7,\n",
       "       24,  8, 27], dtype=uint16)"
      ]
     },
     "execution_count": 19,
     "metadata": {},
     "output_type": "execute_result"
    }
   ],
   "source": [
    "db.scRNA[:].Age[:20]"
   ]
  },
  {
   "cell_type": "code",
   "execution_count": 9,
   "metadata": {},
   "outputs": [
    {
     "name": "stdout",
     "output_type": "stream",
     "text": [
      "CPU times: user 371 ms, sys: 16 ms, total: 387 ms\n",
      "Wall time: 387 ms\n"
     ]
    }
   ],
   "source": [
    "%%time\n",
    "with loompy.new(\"/Users/stelin/test.loom\") as ds:\n",
    "    ds.add_columns(np.random.randint(0, 10, size=(2000, 5000), dtype=\"int16\"), {\n",
    "        \"Age\": np.random.randint(0, 50, size=5000, dtype=\"uint16\")\n",
    "    },\n",
    "                  row_attrs={\"GeneID\": np.arange(2000)})"
   ]
  },
  {
   "cell_type": "code",
   "execution_count": 10,
   "metadata": {},
   "outputs": [
    {
     "name": "stdout",
     "output_type": "stream",
     "text": [
      "(2000, 5000)\n",
      "CPU times: user 118 ms, sys: 6.03 ms, total: 124 ms\n",
      "Wall time: 123 ms\n"
     ]
    }
   ],
   "source": [
    "%%time\n",
    "with loompy.connect(\"/Users/stelin/test.loom\") as ds:\n",
    "    x = ds[:,:]\n",
    "    print(x.shape)"
   ]
  },
  {
   "cell_type": "code",
   "execution_count": 11,
   "metadata": {},
   "outputs": [],
   "source": [
    "db.mouse = shoji.Workspace()"
   ]
  },
  {
   "cell_type": "code",
   "execution_count": 19,
   "metadata": {},
   "outputs": [
    {
     "name": "stderr",
     "output_type": "stream",
     "text": [
      "  0%|          | 0/17 [00:00<?, ?it/s]"
     ]
    },
    {
     "name": "stdout",
     "output_type": "stream",
     "text": [
      "Accession\n",
      "Chromosome\n",
      "End\n",
      "Gene\n",
      "Start\n",
      "Strand\n"
     ]
    },
    {
     "name": "stderr",
     "output_type": "stream",
     "text": [
      "100%|██████████| 17/17 [00:21<00:00,  1.28s/it]\n",
      "100%|██████████| 1048/1048 [1:54:29<00:00,  6.55s/it]     \n"
     ]
    }
   ],
   "source": [
    "if \"Development\" in db.scRNA.mouse:\n",
    "    del db.mouse.Development\n",
    "db.mouse.Development = shoji.Workspace()\n",
    "ws = db.mouse.Development\n",
    "with loompy.connect(\"/Users/stelin/cytograph/emelie_20191031/data/Forebrain.loom\", validate=False) as ds:\n",
    "    ws.genes = shoji.Dimension(size=None)\n",
    "    ws.cells = shoji.Dimension(size=None)\n",
    "    ras = ['Accession', 'Chromosome', 'End', 'Gene', 'Start', 'Strand']\n",
    "    cas = ['Age', 'CellCycle', 'CellID', 'Clusters', 'ClustersModularity', 'ClustersSurprise','DoubletFinderFlag', 'DoubletFinderScore',  'MT_ratio','NGenes','Tissue', 'TotalUMI']\n",
    "    for ra in ras:\n",
    "        dtype = ds.ra[ra].dtype.name\n",
    "        ws[ra[0].upper() + ra[1:]] = shoji.Tensor(\"string\" if dtype == \"object\" else dtype, dims=(\"genes\",))\n",
    "\n",
    "    STEP = 2000\n",
    "    for i in trange(0, ds.shape[0], STEP):\n",
    "        d = {}\n",
    "        for ra in ras:\n",
    "            d[ra[0].upper() + ra[1:]] = ds.ra[ra][i:i + STEP]\n",
    "        db.scRNA.Forebrain.genes.append(d)\n",
    "\n",
    "    for ca in cas:\n",
    "        dtype = ds.ca[ca].dtype.name\n",
    "        ws[ca[0].upper() + ca[1:]] = shoji.Tensor(\"string\" if dtype == \"object\" else dtype, dims=(\"cells\",))\n",
    "    ws.Matrix = shoji.Tensor(\"uint16\", (\"cells\", \"genes\"))\n",
    "    \n",
    "    STEP = 200\n",
    "    for i in trange(0, ds.shape[1], STEP):\n",
    "        d = {}\n",
    "        for ca in cas:\n",
    "            d[ca[0].upper() + ca[1:]] = ds.ca[ca][i:i + STEP]\n",
    "        d[\"Matrix\"] = ds[:, i:i + STEP].astype(\"uint16\").T\n",
    "        db.scRNA.Forebrain.cells.append(d)"
   ]
  },
  {
   "cell_type": "code",
   "execution_count": 20,
   "metadata": {},
   "outputs": [
    {
     "data": {
      "text/plain": [
       "Workspace with 0 subspaces, 2 dimensions and 19 tensors:\n",
       "  cells <Dimension of variable size>\n",
       "  genes <Dimension of variable size>\n",
       "  Accession <Tensor 'string' ('genes',), 33538 rows>\n",
       "  Age <Tensor 'string' ('cells',), 209596 rows>\n",
       "  CellCycle <Tensor 'float64' ('cells',), 209596 rows>\n",
       "  CellID <Tensor 'string' ('cells',), 209596 rows>\n",
       "  Chromosome <Tensor 'string' ('genes',), 33538 rows>\n",
       "  Clusters <Tensor 'int64' ('cells',), 209596 rows>\n",
       "  ClustersModularity <Tensor 'int64' ('cells',), 209596 rows>\n",
       "  ClustersSurprise <Tensor 'int64' ('cells',), 209596 rows>\n",
       "  DoubletFinderFlag <Tensor 'int64' ('cells',), 209596 rows>\n",
       "  DoubletFinderScore <Tensor 'float64' ('cells',), 209596 rows>\n",
       "  End <Tensor 'int64' ('genes',), 33538 rows>\n",
       "  Gene <Tensor 'string' ('genes',), 33538 rows>\n",
       "  MT_ratio <Tensor 'float64' ('cells',), 209596 rows>\n",
       "  Matrix <Tensor 'uint16' ('cells', 'genes'), 209596 rows>\n",
       "  NGenes <Tensor 'float64' ('cells',), 209596 rows>\n",
       "  Start <Tensor 'int64' ('genes',), 33538 rows>\n",
       "  Strand <Tensor 'string' ('genes',), 33538 rows>\n",
       "  Tissue <Tensor 'string' ('cells',), 209596 rows>\n",
       "  TotalUMI <Tensor 'float64' ('cells',), 209596 rows>"
      ]
     },
     "execution_count": 20,
     "metadata": {},
     "output_type": "execute_result"
    }
   ],
   "source": [
    "db.scRNA.Forebrain"
   ]
  },
  {
   "cell_type": "code",
   "execution_count": 9,
   "metadata": {},
   "outputs": [
    {
     "data": {
      "text/plain": [
       "(2952, 33538)"
      ]
     },
     "execution_count": 9,
     "metadata": {},
     "output_type": "execute_result"
    }
   ],
   "source": [
    "db.scRNA.Forebrain[db.scRNA.Forebrain.NGenes > 7000].Matrix.shape"
   ]
  },
  {
   "cell_type": "code",
   "execution_count": null,
   "metadata": {},
   "outputs": [],
   "source": []
  }
 ],
 "metadata": {
  "kernelspec": {
   "display_name": "Python 3",
   "language": "python",
   "name": "python3"
  },
  "language_info": {
   "codemirror_mode": {
    "name": "ipython",
    "version": 3
   },
   "file_extension": ".py",
   "mimetype": "text/x-python",
   "name": "python",
   "nbconvert_exporter": "python",
   "pygments_lexer": "ipython3",
   "version": "3.7.4"
  }
 },
 "nbformat": 4,
 "nbformat_minor": 4
}

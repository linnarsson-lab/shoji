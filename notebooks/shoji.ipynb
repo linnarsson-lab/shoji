{
 "cells": [
  {
   "cell_type": "code",
   "execution_count": 1,
   "metadata": {},
   "outputs": [
    {
     "ename": "AttributeError",
     "evalue": "partially initialized module 'shoji' has no attribute 'GroupDimensionBy' (most likely due to a circular import)",
     "output_type": "error",
     "traceback": [
      "\u001b[0;31m---------------------------------------------------------------------------\u001b[0m",
      "\u001b[0;31mAttributeError\u001b[0m                            Traceback (most recent call last)",
      "\u001b[0;32m<ipython-input-1-e4e7346d3f90>\u001b[0m in \u001b[0;36m<module>\u001b[0;34m\u001b[0m\n\u001b[1;32m      6\u001b[0m \u001b[0;32mimport\u001b[0m \u001b[0mfdb\u001b[0m\u001b[0;34m\u001b[0m\u001b[0;34m\u001b[0m\u001b[0m\n\u001b[1;32m      7\u001b[0m \u001b[0;32mimport\u001b[0m \u001b[0mloompy\u001b[0m\u001b[0;34m\u001b[0m\u001b[0;34m\u001b[0m\u001b[0m\n\u001b[0;32m----> 8\u001b[0;31m \u001b[0;32mimport\u001b[0m \u001b[0mshoji\u001b[0m\u001b[0;34m\u001b[0m\u001b[0;34m\u001b[0m\u001b[0m\n\u001b[0m\u001b[1;32m      9\u001b[0m \u001b[0;32mfrom\u001b[0m \u001b[0mtqdm\u001b[0m \u001b[0;32mimport\u001b[0m \u001b[0mtrange\u001b[0m\u001b[0;34m\u001b[0m\u001b[0;34m\u001b[0m\u001b[0m\n\u001b[1;32m     10\u001b[0m \u001b[0;32mimport\u001b[0m \u001b[0mlogging\u001b[0m\u001b[0;34m\u001b[0m\u001b[0;34m\u001b[0m\u001b[0m\n",
      "\u001b[0;32m~/shoji/shoji/__init__.py\u001b[0m in \u001b[0;36m<module>\u001b[0;34m\u001b[0m\n\u001b[1;32m    169\u001b[0m \u001b[0mfdb\u001b[0m\u001b[0;34m.\u001b[0m\u001b[0mapi_version\u001b[0m\u001b[0;34m(\u001b[0m\u001b[0;36m620\u001b[0m\u001b[0;34m)\u001b[0m\u001b[0;34m\u001b[0m\u001b[0;34m\u001b[0m\u001b[0m\n\u001b[1;32m    170\u001b[0m \u001b[0;34m\u001b[0m\u001b[0m\n\u001b[0;32m--> 171\u001b[0;31m \u001b[0;32mfrom\u001b[0m \u001b[0;34m.\u001b[0m\u001b[0mdimension\u001b[0m \u001b[0;32mimport\u001b[0m \u001b[0mDimension\u001b[0m\u001b[0;34m\u001b[0m\u001b[0;34m\u001b[0m\u001b[0m\n\u001b[0m\u001b[1;32m    172\u001b[0m \u001b[0;32mfrom\u001b[0m \u001b[0;34m.\u001b[0m\u001b[0mtensor\u001b[0m \u001b[0;32mimport\u001b[0m \u001b[0mTensor\u001b[0m\u001b[0;34m,\u001b[0m \u001b[0mTensorValue\u001b[0m\u001b[0;34m\u001b[0m\u001b[0;34m\u001b[0m\u001b[0m\n\u001b[1;32m    173\u001b[0m \u001b[0;32mfrom\u001b[0m \u001b[0;34m.\u001b[0m\u001b[0mworkspace\u001b[0m \u001b[0;32mimport\u001b[0m \u001b[0mWorkspace\u001b[0m\u001b[0;34m,\u001b[0m \u001b[0mWorkspaceManager\u001b[0m\u001b[0;34m\u001b[0m\u001b[0;34m\u001b[0m\u001b[0m\n",
      "\u001b[0;32m~/shoji/shoji/dimension.py\u001b[0m in \u001b[0;36m<module>\u001b[0;34m\u001b[0m\n\u001b[1;32m     52\u001b[0m \u001b[0;34m\u001b[0m\u001b[0m\n\u001b[1;32m     53\u001b[0m \u001b[0;34m\u001b[0m\u001b[0m\n\u001b[0;32m---> 54\u001b[0;31m \u001b[0;32mclass\u001b[0m \u001b[0mDimension\u001b[0m\u001b[0;34m:\u001b[0m\u001b[0;34m\u001b[0m\u001b[0;34m\u001b[0m\u001b[0m\n\u001b[0m\u001b[1;32m     55\u001b[0m \t\"\"\"\n\u001b[1;32m     56\u001b[0m         \u001b[0mClass\u001b[0m \u001b[0mrepresenting\u001b[0m \u001b[0ma\u001b[0m \u001b[0mnamed\u001b[0m \u001b[0mdimension\u001b[0m\u001b[0;34m,\u001b[0m \u001b[0mwhich\u001b[0m \u001b[0mcan\u001b[0m \u001b[0mbe\u001b[0m \u001b[0mshared\u001b[0m \u001b[0mby\u001b[0m \u001b[0mmultiple\u001b[0m\u001b[0;31m \u001b[0m\u001b[0;31m`\u001b[0m\u001b[0mshoji\u001b[0m\u001b[0;34m.\u001b[0m\u001b[0mtensor\u001b[0m\u001b[0;34m.\u001b[0m\u001b[0mTensor\u001b[0m\u001b[0;31m`\u001b[0m\u001b[0ms\u001b[0m\u001b[0;34m\u001b[0m\u001b[0;34m\u001b[0m\u001b[0m\n",
      "\u001b[0;32m~/shoji/shoji/dimension.py\u001b[0m in \u001b[0;36mDimension\u001b[0;34m()\u001b[0m\n\u001b[1;32m     90\u001b[0m                 \u001b[0;32mreturn\u001b[0m \u001b[0mself\u001b[0m\u001b[0;34m.\u001b[0m\u001b[0mlength\u001b[0m\u001b[0;34m\u001b[0m\u001b[0;34m\u001b[0m\u001b[0m\n\u001b[1;32m     91\u001b[0m \u001b[0;34m\u001b[0m\u001b[0m\n\u001b[0;32m---> 92\u001b[0;31m         \u001b[0;32mdef\u001b[0m \u001b[0mgroupby\u001b[0m\u001b[0;34m(\u001b[0m\u001b[0mself\u001b[0m\u001b[0;34m,\u001b[0m \u001b[0mlabels\u001b[0m\u001b[0;34m:\u001b[0m \u001b[0mUnion\u001b[0m\u001b[0;34m[\u001b[0m\u001b[0mstr\u001b[0m\u001b[0;34m,\u001b[0m \u001b[0mnp\u001b[0m\u001b[0;34m.\u001b[0m\u001b[0mndarray\u001b[0m\u001b[0;34m]\u001b[0m\u001b[0;34m,\u001b[0m \u001b[0mprojection\u001b[0m\u001b[0;34m:\u001b[0m \u001b[0mCallable\u001b[0m \u001b[0;34m=\u001b[0m \u001b[0;32mNone\u001b[0m\u001b[0;34m)\u001b[0m \u001b[0;34m->\u001b[0m \u001b[0mshoji\u001b[0m\u001b[0;34m.\u001b[0m\u001b[0mGroupDimensionBy\u001b[0m\u001b[0;34m:\u001b[0m\u001b[0;34m\u001b[0m\u001b[0;34m\u001b[0m\u001b[0m\n\u001b[0m\u001b[1;32m     93\u001b[0m                 \u001b[0;32mreturn\u001b[0m \u001b[0mshoji\u001b[0m\u001b[0;34m.\u001b[0m\u001b[0mGroupDimensionBy\u001b[0m\u001b[0;34m(\u001b[0m\u001b[0mself\u001b[0m\u001b[0;34m,\u001b[0m \u001b[0mlabels\u001b[0m\u001b[0;34m,\u001b[0m \u001b[0mprojection\u001b[0m\u001b[0;34m)\u001b[0m\u001b[0;34m\u001b[0m\u001b[0;34m\u001b[0m\u001b[0m\n\u001b[1;32m     94\u001b[0m \u001b[0;34m\u001b[0m\u001b[0m\n",
      "\u001b[0;31mAttributeError\u001b[0m: partially initialized module 'shoji' has no attribute 'GroupDimensionBy' (most likely due to a circular import)"
     ]
    }
   ],
   "source": [
    "%config InlineBackend.figure_format = 'retina'\n",
    "%matplotlib inline\n",
    "from typing import List, Tuple\n",
    "import matplotlib.pyplot as plt\n",
    "import numpy as np\n",
    "import fdb\n",
    "import loompy\n",
    "import shoji\n",
    "from tqdm import trange\n",
    "import logging\n",
    "import sys\n",
    "#from rich.progress import track\n",
    "%load_ext line_profiler\n",
    "logging.basicConfig(stream=sys.stdout, format='%(asctime)s - %(levelname)s - %(message)s', level=20)"
   ]
  },
  {
   "cell_type": "code",
   "execution_count": null,
   "metadata": {},
   "outputs": [],
   "source": [
    "db = shoji.connect()\n",
    "db"
   ]
  },
  {
   "cell_type": "code",
   "execution_count": null,
   "metadata": {},
   "outputs": [],
   "source": [
    "view = db.refdb.samples.S10X241_1[:]  # Slice the workspace to get a view\n",
    "stats = view.groupby(\"TotalUMI\", projection=lambda x: x // 10000).stats(\"TotalUMI\")"
   ]
  },
  {
   "cell_type": "code",
   "execution_count": null,
   "metadata": {},
   "outputs": [],
   "source": [
    "stats.mean()"
   ]
  },
  {
   "cell_type": "code",
   "execution_count": null,
   "metadata": {},
   "outputs": [],
   "source": []
  },
  {
   "cell_type": "code",
   "execution_count": 5,
   "metadata": {},
   "outputs": [
    {
     "data": {
      "text/html": [
       "<h4>S10X241_1 (shoji.Workspace)</h4><h5>Dimensions</h5><table><tr><th></th><th>shape</th><th>length</th></tr><tr><td align='left'><strong>cells</strong></td><td>None</td><td>6,031</td></tr><tr><td align='left'><strong>genes</strong></td><td>33,538</td><td>33,538</td></tr></table><h5>Tensors</h5><table><tr><th></th><th>dtype</th><th>rank</th><th>dims</th><th>shape</th><th>(values)</th></tr><tr><td align='left'><strong>Accession</strong></td><td align='left'>string</td><td align='left'>1</td><td>genes</td><td>33,538</td><td>[\"ENSG00000237613\", \"ENSG00000238009\", \"ENSG00000239945\" ···</td></tr><tr><td align='left'><strong>Age</strong></td><td align='left'>string</td><td align='left'>0</td><td>()</td><td>()</td><td>\"42y\"</td></tr><tr><td align='left'><strong>Ambiguous</strong></td><td align='left'>uint16</td><td align='left'>2</td><td>cells ✕ genes</td><td>__ ✕ 33,538</td><td>[[0, 0, 0, 0, 0, ...], [0, 0, 0, 0, 0, ...], [0, 0, 0, 0 ···</td></tr><tr><td align='left'><strong>BpLength</strong></td><td align='left'>int64</td><td align='left'>0</td><td>()</td><td>()</td><td>473</td></tr><tr><td align='left'><strong>CDNAConc</strong></td><td align='left'>float64</td><td align='left'>0</td><td>()</td><td>()</td><td>13.6</td></tr><tr><td align='left'><strong>CellConc</strong></td><td align='left'>int64</td><td align='left'>0</td><td>()</td><td>()</td><td>1093</td></tr><tr><td align='left'><strong>CellCycle</strong></td><td align='left'>float64</td><td align='left'>1</td><td>cells</td><td>__</td><td>[0.0018567639257294427, 0.0016608668142992723, 0.0007298 ···</td></tr><tr><td align='left'><strong>CellCycle_G1</strong></td><td align='left'>float64</td><td align='left'>1</td><td>cells</td><td>__</td><td>[0.0010610079575596816, 0.0011863334387851945, 0.0004644 ···</td></tr><tr><td align='left'><strong>CellCycle_G2M</strong></td><td align='left'>float64</td><td align='left'>1</td><td>cells</td><td>__</td><td>[0.0007957559681697613, 0.0004745333755140778, 0.0002653 ···</td></tr><tr><td align='left'><strong>CellCycle_S</strong></td><td align='left'>float64</td><td align='left'>1</td><td>cells</td><td>__</td><td>[0.0, 0.0, 0.0, 0.0, 0.0, ...]</td></tr><tr><td align='left'><strong>CellID</strong></td><td align='left'>string</td><td align='left'>1</td><td>cells</td><td>__</td><td>[\"10X241_1_AB_1:AACAAGAAGCCTCCAGx\", \"10X241_1_AB_1:AACAG ···</td></tr><tr><td align='left'><strong>Chemistry</strong></td><td align='left'>string</td><td align='left'>0</td><td>()</td><td>()</td><td>\"v3\"</td></tr><tr><td align='left'><strong>Chromosome</strong></td><td align='left'>string</td><td align='left'>1</td><td>genes</td><td>33,538</td><td>[\"1\", \"1\", \"1\", \"1\", \"1\", ...]</td></tr><tr><td align='left'><strong>Clusters</strong></td><td align='left'>int64</td><td align='left'>1</td><td>cells</td><td>__</td><td>[3, 6, 0, 5, 7, ...]</td></tr><tr><td align='left'><strong>Comment</strong></td><td align='left'>string</td><td align='left'>0</td><td>()</td><td>()</td><td>\"\"</td></tr><tr><td align='left'><strong>CreationDate</strong></td><td align='left'>string</td><td align='left'>0</td><td>()</td><td>()</td><td>\"20200125T144340.865633Z\"</td></tr><tr><td align='left'><strong>Donor</strong></td><td align='left'>string</td><td align='left'>0</td><td>()</td><td>()</td><td>\"H19.30.001\"</td></tr><tr><td align='left'><strong>DoubletFinderFlag</strong></td><td align='left'>int64</td><td align='left'>1</td><td>cells</td><td>__</td><td>[0, 0, 0, 0, 0, ...]</td></tr><tr><td align='left'><strong>DoubletFinderScore</strong></td><td align='left'>float64</td><td align='left'>1</td><td>cells</td><td>__</td><td>[0.0, 0.01, 0.0, 0.0, 0.03, ...]</td></tr><tr><td align='left'><strong>End</strong></td><td align='left'>int64</td><td align='left'>1</td><td>genes</td><td>33,538</td><td>[36081, 133723, 91105, 140339, 451697, ...]</td></tr><tr><td align='left'><strong>Expression</strong></td><td align='left'>float32</td><td align='left'>2</td><td>cells ✕ genes</td><td>__ ✕ 33,538</td><td>[[0.0, 0.0, 0.0, 0.0, 0.0, ...], [0.0, 0.0, 0.0, 0.0, 0. ···</td></tr><tr><td align='left'><strong>FinalConc</strong></td><td align='left'>float64</td><td align='left'>0</td><td>()</td><td>()</td><td>71.74</td></tr><tr><td align='left'><strong>Gene</strong></td><td align='left'>string</td><td align='left'>1</td><td>genes</td><td>33,538</td><td>[\"FAM138A\", \"AL627309.1\", \"AL627309.3\", \"AL627309.2\", \"O ···</td></tr><tr><td align='left'><strong>IsCycling</strong></td><td align='left'>uint8</td><td align='left'>1</td><td>cells</td><td>__</td><td>[0, 0, 0, 0, 0, ...]</td></tr><tr><td align='left'><strong>LOOM_SPEC_VERSION</strong></td><td align='left'>string</td><td align='left'>0</td><td>()</td><td>()</td><td>\"3.0.0\"</td></tr><tr><td align='left'><strong>MT_ratio</strong></td><td align='left'>float64</td><td align='left'>1</td><td>cells</td><td>__</td><td>[0.0, 0.0012654223347042075, 0.00019904458598726116, 0.0 ···</td></tr><tr><td align='left'><strong>MeanTotalUMI</strong></td><td align='left'>float64</td><td align='left'>0</td><td>()</td><td>()</td><td>2.6306771670307514</td></tr><tr><td align='left'><strong>NGenes</strong></td><td align='left'>float64</td><td align='left'>1</td><td>cells</td><td>__</td><td>[1636.0, 4424.0, 5197.0, 5027.0, 8039.0, ...]</td></tr><tr><td align='left'><strong>PCA</strong></td><td align='left'>float32</td><td align='left'>2</td><td>cells ✕ 50</td><td>__ ✕ 50</td><td>[[74.28239, -62.13544, -4.349699, 31.369503, -9.158176,  ···</td></tr><tr><td align='left'><strong>PCRCycles</strong></td><td align='left'>int64</td><td align='left'>0</td><td>()</td><td>()</td><td>12</td></tr><tr><td align='left'><strong>PassedQC</strong></td><td align='left'>uint8</td><td align='left'>1</td><td>cells</td><td>__</td><td>[0, 0, 0, 0, 0, ...]</td></tr><tr><td align='left'><strong>PassedQC_MT_ratio</strong></td><td align='left'>uint8</td><td align='left'>1</td><td>cells</td><td>__</td><td>[0, 0, 0, 0, 0, ...]</td></tr><tr><td align='left'><strong>PassedQC_TotalUMI</strong></td><td align='left'>uint8</td><td align='left'>1</td><td>cells</td><td>__</td><td>[1, 1, 1, 1, 1, ...]</td></tr><tr><td align='left'><strong>PassedQC_UMIPerGene</strong></td><td align='left'>uint8</td><td align='left'>1</td><td>cells</td><td>__</td><td>[0, 0, 0, 0, 1, ...]</td></tr><tr><td align='left'><strong>PassedQC_UnsplicedRatio</strong></td><td align='left'>uint8</td><td align='left'>1</td><td>cells</td><td>__</td><td>[1, 1, 1, 1, 1, ...]</td></tr><tr><td align='left'><strong>PassedQC_gobal</strong></td><td align='left'>uint8</td><td align='left'>0</td><td>()</td><td>()</td><td>1</td></tr><tr><td align='left'><strong>RegionOfInterest</strong></td><td align='left'>string</td><td align='left'>0</td><td>()</td><td>()</td><td>\"Human MTG\"</td></tr><tr><td align='left'><strong>SampleName</strong></td><td align='left'>string</td><td align='left'>0</td><td>()</td><td>()</td><td>\"M1TX_191024_101_D01\"</td></tr><tr><td align='left'><strong>Sex</strong></td><td align='left'>string</td><td align='left'>0</td><td>()</td><td>()</td><td>\"M\"</td></tr><tr><td align='left'><strong>Species</strong></td><td align='left'>string</td><td align='left'>0</td><td>()</td><td>()</td><td>\"Hs\"</td></tr><tr><td align='left'><strong>Spliced</strong></td><td align='left'>uint16</td><td align='left'>2</td><td>cells ✕ genes</td><td>__ ✕ 33,538</td><td>[[0, 0, 0, 0, 0, ...], [0, 0, 0, 0, 0, ...], [0, 0, 0, 0 ···</td></tr><tr><td align='left'><strong>Start</strong></td><td align='left'>int64</td><td align='left'>1</td><td>genes</td><td>33,538</td><td>[34554, 89295, 89551, 139790, 450703, ...]</td></tr><tr><td align='left'><strong>Strand</strong></td><td align='left'>string</td><td align='left'>1</td><td>genes</td><td>33,538</td><td>[\"-\", \"-\", \"-\", \"-\", \"-\", ...]</td></tr><tr><td align='left'><strong>TSNE</strong></td><td align='left'>float32</td><td align='left'>2</td><td>cells ✕ 2</td><td>__ ✕ 2</td><td>[[58.532703, 29.16907], [61.23788, 5.1332006], [-55.1144 ···</td></tr><tr><td align='left'><strong>TargetNumCells</strong></td><td align='left'>int64</td><td align='left'>0</td><td>()</td><td>()</td><td>5000</td></tr><tr><td align='left'><strong>Tissue</strong></td><td align='left'>string</td><td align='left'>0</td><td>()</td><td>()</td><td>\"Cerebral cortex (Cx) - Middle Temporal Gyrus - MTG\"</td></tr><tr><td align='left'><strong>TotalUMI</strong></td><td align='left'>float64</td><td align='left'>1</td><td>cells</td><td>__</td><td>[3770.0, 12644.0, 15072.0, 13330.0, 33172.0, ...]</td></tr><tr><td align='left'><strong>Unspliced</strong></td><td align='left'>uint16</td><td align='left'>2</td><td>cells ✕ genes</td><td>__ ✕ 33,538</td><td>[[0, 0, 0, 0, 0, ...], [0, 0, 0, 0, 0, ...], [0, 0, 0, 0 ···</td></tr><tr><td align='left'><strong>Unspliced_ratio</strong></td><td align='left'>float64</td><td align='left'>1</td><td>cells</td><td>__</td><td>[0.7647214854111406, 0.7637614678899083, 0.7521894904458 ···</td></tr><tr><td align='left'><strong>Velocyto.__version__</strong></td><td align='left'>string</td><td align='left'>0</td><td>()</td><td>()</td><td>\"0.17.17\"</td></tr><tr><td align='left'><strong>Velocyto.logic</strong></td><td align='left'>string</td><td align='left'>0</td><td>()</td><td>()</td><td>\"Default\"</td></tr></table>"
      ],
      "text/plain": [
       "Workspace with 0 workspaces, 2 dimensions and 51 tensors:\n",
       "  cells <Dimension of variable shape>\n",
       "  genes <Dimension of shape 33538>\n",
       "  Accession <Tensor Accession dtype='string' dims=('genes',), shape=(33538,)>\n",
       "  Age <Tensor Age dtype='string' dims=(), shape=()>\n",
       "  Ambiguous <Tensor Ambiguous dtype='uint16' dims=('cells', 'genes'), shape=(6031, 33538)>\n",
       "  BpLength <Tensor BpLength dtype='int64' dims=(), shape=()>\n",
       "  CDNAConc <Tensor CDNAConc dtype='float64' dims=(), shape=()>\n",
       "  CellConc <Tensor CellConc dtype='int64' dims=(), shape=()>\n",
       "  CellCycle <Tensor CellCycle dtype='float64' dims=('cells',), shape=(6031,)>\n",
       "  CellCycle_G1 <Tensor CellCycle_G1 dtype='float64' dims=('cells',), shape=(6031,)>\n",
       "  CellCycle_G2M <Tensor CellCycle_G2M dtype='float64' dims=('cells',), shape=(6031,)>\n",
       "  CellCycle_S <Tensor CellCycle_S dtype='float64' dims=('cells',), shape=(6031,)>\n",
       "  CellID <Tensor CellID dtype='string' dims=('cells',), shape=(6031,)>\n",
       "  Chemistry <Tensor Chemistry dtype='string' dims=(), shape=()>\n",
       "  Chromosome <Tensor Chromosome dtype='string' dims=('genes',), shape=(33538,)>\n",
       "  Clusters <Tensor Clusters dtype='int64' dims=('cells',), shape=(6031,)>\n",
       "  Comment <Tensor Comment dtype='string' dims=(), shape=()>\n",
       "  CreationDate <Tensor CreationDate dtype='string' dims=(), shape=()>\n",
       "  Donor <Tensor Donor dtype='string' dims=(), shape=()>\n",
       "  DoubletFinderFlag <Tensor DoubletFinderFlag dtype='int64' dims=('cells',), shape=(6031,)>\n",
       "  DoubletFinderScore <Tensor DoubletFinderScore dtype='float64' dims=('cells',), shape=(6031,)>\n",
       "  End <Tensor End dtype='int64' dims=('genes',), shape=(33538,)>\n",
       "  Expression <Tensor Expression dtype='float32' dims=('cells', 'genes'), shape=(6031, 33538)>\n",
       "  FinalConc <Tensor FinalConc dtype='float64' dims=(), shape=()>\n",
       "  Gene <Tensor Gene dtype='string' dims=('genes',), shape=(33538,)>\n",
       "  IsCycling <Tensor IsCycling dtype='uint8' dims=('cells',), shape=(6031,)>\n",
       "  LOOM_SPEC_VERSION <Tensor LOOM_SPEC_VERSION dtype='string' dims=(), shape=()>\n",
       "  MT_ratio <Tensor MT_ratio dtype='float64' dims=('cells',), shape=(6031,)>\n",
       "  MeanTotalUMI <Tensor MeanTotalUMI dtype='float64' dims=(), shape=()>\n",
       "  NGenes <Tensor NGenes dtype='float64' dims=('cells',), shape=(6031,)>\n",
       "  PCA <Tensor PCA dtype='float32' dims=('cells', 50), shape=(6031, 50)>\n",
       "  PCRCycles <Tensor PCRCycles dtype='int64' dims=(), shape=()>\n",
       "  PassedQC <Tensor PassedQC dtype='uint8' dims=('cells',), shape=(6031,)>\n",
       "  PassedQC_MT_ratio <Tensor PassedQC_MT_ratio dtype='uint8' dims=('cells',), shape=(6031,)>\n",
       "  PassedQC_TotalUMI <Tensor PassedQC_TotalUMI dtype='uint8' dims=('cells',), shape=(6031,)>\n",
       "  PassedQC_UMIPerGene <Tensor PassedQC_UMIPerGene dtype='uint8' dims=('cells',), shape=(6031,)>\n",
       "  PassedQC_UnsplicedRatio <Tensor PassedQC_UnsplicedRatio dtype='uint8' dims=('cells',), shape=(6031,)>\n",
       "  PassedQC_gobal <Tensor PassedQC_gobal dtype='uint8' dims=(), shape=()>\n",
       "  RegionOfInterest <Tensor RegionOfInterest dtype='string' dims=(), shape=()>\n",
       "  SampleName <Tensor SampleName dtype='string' dims=(), shape=()>\n",
       "  Sex <Tensor Sex dtype='string' dims=(), shape=()>\n",
       "  Species <Tensor Species dtype='string' dims=(), shape=()>\n",
       "  Spliced <Tensor Spliced dtype='uint16' dims=('cells', 'genes'), shape=(6031, 33538)>\n",
       "  Start <Tensor Start dtype='int64' dims=('genes',), shape=(33538,)>\n",
       "  Strand <Tensor Strand dtype='string' dims=('genes',), shape=(33538,)>\n",
       "  TSNE <Tensor TSNE dtype='float32' dims=('cells', 2), shape=(6031, 2)>\n",
       "  TargetNumCells <Tensor TargetNumCells dtype='int64' dims=(), shape=()>\n",
       "  Tissue <Tensor Tissue dtype='string' dims=(), shape=()>\n",
       "  TotalUMI <Tensor TotalUMI dtype='float64' dims=('cells',), shape=(6031,)>\n",
       "  Unspliced <Tensor Unspliced dtype='uint16' dims=('cells', 'genes'), shape=(6031, 33538)>\n",
       "  Unspliced_ratio <Tensor Unspliced_ratio dtype='float64' dims=('cells',), shape=(6031,)>\n",
       "  Velocyto.__version__ <Tensor Velocyto.__version__ dtype='string' dims=(), shape=()>\n",
       "  Velocyto.logic <Tensor Velocyto.logic dtype='string' dims=(), shape=()>"
      ]
     },
     "execution_count": 5,
     "metadata": {},
     "output_type": "execute_result"
    }
   ],
   "source": [
    "db.refdb.samples.S10X241_1"
   ]
  },
  {
   "cell_type": "code",
   "execution_count": 12,
   "metadata": {},
   "outputs": [
    {
     "name": "stderr",
     "output_type": "stream",
     "text": [
      "100%|██████████| 812/812 [19:01:25<00:00, 84.34s/it]      \n"
     ]
    }
   ],
   "source": [
    "db.refdb.human_development._from_loom(\"/Users/stelin/Dropbox (Linnarsson Group)/Temp/Allbrain.loom\")"
   ]
  },
  {
   "cell_type": "code",
   "execution_count": 12,
   "metadata": {},
   "outputs": [
    {
     "data": {
      "text/plain": [
       "3"
      ]
     },
     "execution_count": 12,
     "metadata": {},
     "output_type": "execute_result"
    }
   ],
   "source": [
    "(lambda x: x + 1)(2)"
   ]
  },
  {
   "cell_type": "code",
   "execution_count": null,
   "metadata": {},
   "outputs": [],
   "source": [
    "gp = ws.cells.groupby(\"Clusters\")\n",
    "gp.Tissue(\"mode\")\n",
    "gp.TotalUMI(\"median\")"
   ]
  }
 ],
 "metadata": {
  "kernelspec": {
   "display_name": "Python 3",
   "language": "python",
   "name": "python3"
  },
  "language_info": {
   "codemirror_mode": {
    "name": "ipython",
    "version": 3
   },
   "file_extension": ".py",
   "mimetype": "text/x-python",
   "name": "python",
   "nbconvert_exporter": "python",
   "pygments_lexer": "ipython3",
   "version": "3.8.3"
  }
 },
 "nbformat": 4,
 "nbformat_minor": 4
}
